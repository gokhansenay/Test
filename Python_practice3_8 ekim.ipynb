{
 "cells": [
  {
   "cell_type": "code",
   "execution_count": 1,
   "id": "602e3560-43e6-4e4c-b903-bf7984df1da2",
   "metadata": {},
   "outputs": [],
   "source": [
    "def kare(a):\n",
    "    print(\"merhaba\")\n",
    "    b=a**2\n",
    "    return(b)"
   ]
  },
  {
   "cell_type": "code",
   "execution_count": 2,
   "id": "c928aa9d-45d3-4eb2-8ddd-da2e34a87377",
   "metadata": {},
   "outputs": [
    {
     "name": "stdout",
     "output_type": "stream",
     "text": [
      "merhaba\n"
     ]
    }
   ],
   "source": [
    "say=kare(5)"
   ]
  },
  {
   "cell_type": "code",
   "execution_count": 3,
   "id": "16652afe-65be-483b-b2a2-bf5c039af23d",
   "metadata": {},
   "outputs": [
    {
     "data": {
      "text/plain": [
       "25"
      ]
     },
     "execution_count": 3,
     "metadata": {},
     "output_type": "execute_result"
    }
   ],
   "source": [
    "say"
   ]
  },
  {
   "cell_type": "code",
   "execution_count": 4,
   "id": "b1980af3-7341-42b5-811c-ea9f222455e2",
   "metadata": {},
   "outputs": [
    {
     "name": "stdout",
     "output_type": "stream",
     "text": [
      "I am from Türkiye\n"
     ]
    }
   ],
   "source": [
    "def my_function(country = \"Norway\"):\n",
    "    print(\"I am from \" + country)\n",
    "\n",
    "my_function(\"Türkiye\")"
   ]
  },
  {
   "cell_type": "code",
   "execution_count": 5,
   "id": "1404c1ac-23cd-4ce5-954a-88969b971e4a",
   "metadata": {},
   "outputs": [],
   "source": [
    "import random\n",
    "from random import randint, choice"
   ]
  },
  {
   "cell_type": "code",
   "execution_count": 6,
   "id": "a11a58a5-5694-4d22-b41f-e23f6ec07c70",
   "metadata": {},
   "outputs": [],
   "source": [
    "character=\"a15790Q!+%&/=?_-vfghjklyt\""
   ]
  },
  {
   "cell_type": "code",
   "execution_count": 7,
   "id": "200b716c-4ae3-40ca-8aa9-1da96e6a667b",
   "metadata": {},
   "outputs": [],
   "source": [
    "password=\"\"\n",
    "for i in range(8):\n",
    "    password += random.choice(character)"
   ]
  },
  {
   "cell_type": "code",
   "execution_count": 8,
   "id": "70a67148-5dbe-42e8-8496-287bed29d285",
   "metadata": {},
   "outputs": [
    {
     "data": {
      "text/plain": [
       "'-k77t?jh'"
      ]
     },
     "execution_count": 8,
     "metadata": {},
     "output_type": "execute_result"
    }
   ],
   "source": [
    "password"
   ]
  },
  {
   "cell_type": "code",
   "execution_count": 24,
   "id": "2fdc5d66-1bb7-481f-9d09-572e8c07bd93",
   "metadata": {},
   "outputs": [
    {
     "data": {
      "text/plain": [
       "'k-=75fh9'"
      ]
     },
     "execution_count": 24,
     "metadata": {},
     "output_type": "execute_result"
    }
   ],
   "source": [
    "(\"\").join(random.sample(character,k=8))"
   ]
  },
  {
   "cell_type": "code",
   "execution_count": 26,
   "id": "b056d81d-4893-44fa-9830-af1166f181f7",
   "metadata": {},
   "outputs": [
    {
     "data": {
      "text/plain": [
       "'+fr1kca0159'"
      ]
     },
     "execution_count": 26,
     "metadata": {},
     "output_type": "execute_result"
    }
   ],
   "source": [
    "from random import randint, choice\n",
    "character=\"a15790Q!+%&/=?_-vfghjkllyyttabcdefghrtyı987655\"\n",
    "password=\"\"\n",
    "for index in range(randint(3,15)):\n",
    "    password += choice(character)\n",
    "password"
   ]
  },
  {
   "cell_type": "code",
   "execution_count": 27,
   "id": "45068abe-f4fe-4f3a-a258-d8345ccee74a",
   "metadata": {},
   "outputs": [
    {
     "name": "stdout",
     "output_type": "stream",
     "text": [
      "[2000, 1996, 1992, 1988, 1984, 1980, 1976, 1972, 1968, 1964, 1960, 1956, 1952, 1948, 1944, 1940, 1936, 1932, 1928, 1924, 1920, 1916, 1912, 1908, 1904]\n"
     ]
    }
   ],
   "source": [
    "yil=[]\n",
    "for i in range(2000,1900,-1):\n",
    "    if i%4==0:\n",
    "        yil.append(i)\n",
    "print(yil)"
   ]
  },
  {
   "cell_type": "code",
   "execution_count": null,
   "id": "b6b2b0b1-b619-46dd-aecd-44e08060657f",
   "metadata": {},
   "outputs": [],
   "source": [
    "p=\"neden\"\n",
    "k=\"yatak\"\n",
    "ters=k[::-1]    "
   ]
  },
  {
   "cell_type": "code",
   "execution_count": null,
   "id": "63313185-161c-4107-80b9-e03f82a3b185",
   "metadata": {},
   "outputs": [],
   "source": [
    "ters"
   ]
  },
  {
   "cell_type": "code",
   "execution_count": 28,
   "id": "47127494-8642-409f-96e9-e73f11e6136d",
   "metadata": {},
   "outputs": [
    {
     "data": {
      "text/plain": [
       "[1, 2, 3, 'a', 'b', 'c']"
      ]
     },
     "execution_count": 28,
     "metadata": {},
     "output_type": "execute_result"
    }
   ],
   "source": [
    "list=[1,2,3]\n",
    "str=[\"a\",\"b\",\"c\"]\n",
    "t=list+str\n",
    "t"
   ]
  },
  {
   "cell_type": "code",
   "execution_count": 29,
   "id": "398e6b85-169c-4985-b486-0f69fe93650e",
   "metadata": {},
   "outputs": [
    {
     "name": "stdout",
     "output_type": "stream",
     "text": [
      "[1, 4, 9, 16, 25, 36] [1, 4, 9, 16, 25, 36]\n"
     ]
    }
   ],
   "source": [
    "nmbers=[1,2,3,4,5,6]\n",
    "sayi1=[nmber**2 for nmber in nmbers ]\n",
    "sayi2=[nmber**2 for nmber in range(1,7) ]\n",
    "print(sayi1,sayi2)"
   ]
  },
  {
   "cell_type": "code",
   "execution_count": 30,
   "id": "333c1b0a-760f-40a6-97db-bca0c5fa02b2",
   "metadata": {},
   "outputs": [
    {
     "data": {
      "text/plain": [
       "[6, 12, 18, 24, 30, 36, 42, 48, 54, 60, 66, 72, 78, 84, 90, 96]"
      ]
     },
     "execution_count": 30,
     "metadata": {},
     "output_type": "execute_result"
    }
   ],
   "source": [
    "sayi3=[nmber*2 for nmber in range(1,50) if nmber%3==0]\n",
    "sayi3"
   ]
  },
  {
   "cell_type": "code",
   "execution_count": 9,
   "id": "2e0880e2-8394-41bb-b76c-dd7b1df88a28",
   "metadata": {},
   "outputs": [
    {
     "data": {
      "text/plain": [
       "[2, 4, 9, 8, 10, 36, 14, 16, 81, 20]"
      ]
     },
     "execution_count": 9,
     "metadata": {},
     "output_type": "execute_result"
    }
   ],
   "source": [
    "sayi3=[nmber**2 if nmber%3==0 else nmber*2 for nmber in range(1,11)]\n",
    "sayi3"
   ]
  },
  {
   "cell_type": "code",
   "execution_count": 34,
   "id": "c6510b8c-a29c-4e53-93d1-1032ac017d86",
   "metadata": {},
   "outputs": [
    {
     "data": {
      "text/plain": [
       "['Oya', 'orçun']"
      ]
     },
     "execution_count": 34,
     "metadata": {},
     "output_type": "execute_result"
    }
   ],
   "source": [
    "listem=[\"Ahmet\",\"Mehmet\",\"Oya\",\"orçun\"]\n",
    "#=[lis for lis in listem if lis.startswith('O') or lis.startswith('o')]\n",
    "l=[lis for lis in listem if lis.upper().startswith('O')]\n",
    "l"
   ]
  },
  {
   "cell_type": "code",
   "execution_count": 35,
   "id": "08a62b7e-ead9-4755-a062-3eef2ac770c1",
   "metadata": {},
   "outputs": [
    {
     "data": {
      "text/plain": [
       "[20, 20, 30, 40, 30, 60, 90, 120, 40, 80, 120, 160]"
      ]
     },
     "execution_count": 35,
     "metadata": {},
     "output_type": "execute_result"
    }
   ],
   "source": [
    "listee=[5, 10,30,40]\n",
    "li=[1,2,3,4]\n",
    "s=[x*y for x in listee for y in li if x*y>15]   #iç içe döngü\n",
    "s"
   ]
  },
  {
   "cell_type": "code",
   "execution_count": 39,
   "id": "78798cf9-2afb-4a1c-8ca1-3c700b601900",
   "metadata": {},
   "outputs": [
    {
     "name": "stdout",
     "output_type": "stream",
     "text": [
      "40 is in list\n"
     ]
    }
   ],
   "source": [
    "if 40 in [x*y for x in listee for y in li if x*y>15]:\n",
    "    print(\"40 is in list\")"
   ]
  },
  {
   "cell_type": "code",
   "execution_count": 41,
   "id": "21b97963-1734-4792-b85a-694a7e981ac5",
   "metadata": {},
   "outputs": [
    {
     "data": {
      "text/plain": [
       "6"
      ]
     },
     "execution_count": 41,
     "metadata": {},
     "output_type": "execute_result"
    }
   ],
   "source": [
    "coordinate=[1,2,3]\n",
    "x,y,z=coordinate\n",
    "multiply=x*y*z\n",
    "multiply"
   ]
  },
  {
   "cell_type": "code",
   "execution_count": 45,
   "id": "23cf8c42-96d6-47e5-9455-8c109d4c3189",
   "metadata": {},
   "outputs": [
    {
     "data": {
      "text/plain": [
       "840"
      ]
     },
     "execution_count": 45,
     "metadata": {},
     "output_type": "execute_result"
    }
   ],
   "source": [
    "coordinate=[1,2,3,4,5,6,7]\n",
    "x,y,z,t=coordinate[3:7]\n",
    "multiply=x*y*z*t\n",
    "multiply"
   ]
  },
  {
   "cell_type": "code",
   "execution_count": 46,
   "id": "2130fc3c-40e7-4647-a0c1-b7fd9191b60e",
   "metadata": {},
   "outputs": [
    {
     "name": "stdout",
     "output_type": "stream",
     "text": [
      "6\n",
      "120\n"
     ]
    }
   ],
   "source": [
    "coordinate=[1,2,3,4,5,6]\n",
    "for index in range(int(len(coordinate)/3)):\n",
    "        x,y,z=coordinate[index*3:3+index*3]\n",
    "        multiply=x*y*z\n",
    "        print(multiply)"
   ]
  },
  {
   "cell_type": "code",
   "execution_count": 47,
   "id": "a59dd3f4-41f9-489f-abf0-eee2e71af1db",
   "metadata": {},
   "outputs": [
    {
     "name": "stdout",
     "output_type": "stream",
     "text": [
      "List size :  8856\n",
      "Tuple size :  8040\n"
     ]
    }
   ],
   "source": [
    "import sys\n",
    "\n",
    "evenNumberList=[number for number in range(2,2002,2)]\n",
    "evenNumberTuple=tuple(evenNumberList)\n",
    "\n",
    "print(\"List size : \",sys.getsizeof(evenNumberList))         #byte olarak kaplanan hafıza\n",
    "print(\"Tuple size : \",sys.getsizeof(evenNumberTuple))"
   ]
  },
  {
   "cell_type": "code",
   "execution_count": 48,
   "id": "5e243420-4244-4423-b058-9937c97eeb30",
   "metadata": {},
   "outputs": [
    {
     "name": "stdout",
     "output_type": "stream",
     "text": [
      "List time test :  2.6865264999996725\n",
      "List time test :  0.4762875000005806\n"
     ]
    }
   ],
   "source": [
    "import timeit\n",
    "\n",
    "print(\"List time test : \",timeit.timeit(stmt=\"numbers=[1,2,3,4,5,6,7,8,9,10,11,12,13,14,15]\",number=10000000))\n",
    "print(\"List time test : \",timeit.timeit(stmt=\"numbers=(1,2,3,4,5,6,7,8,9,10,11,12,13,14,15)\",number=10000000))\n",
    "#10000000 kez çalıştırıyor. Default değeri 1 milyyondr. Tuple ile list hız farkı"
   ]
  },
  {
   "cell_type": "code",
   "execution_count": 51,
   "id": "2fdb5e62-e9e4-46d1-94e4-e211cfb950dd",
   "metadata": {},
   "outputs": [
    {
     "name": "stdout",
     "output_type": "stream",
     "text": [
      "name \"Ali\" var\n"
     ]
    }
   ],
   "source": [
    "name=\"Ali\"\n",
    "print(f\"name \\\"{name}\\\" var\")    # Tırnak içerisinde gösterilmek istenirse"
   ]
  },
  {
   "cell_type": "code",
   "execution_count": 52,
   "id": "568d166c-c454-4eeb-a725-397206f6814c",
   "metadata": {},
   "outputs": [
    {
     "data": {
      "text/plain": [
       "{1, 2, 3, 4, 5}"
      ]
     },
     "execution_count": 52,
     "metadata": {},
     "output_type": "execute_result"
    }
   ],
   "source": [
    "# Set (kümeler)  a={} set boş kümme olmazz, dictiniary boş küme olur.\n",
    "# kümelerde insert yok. Çünkü sıralama yok.\n",
    "numbers=[1,1,2,1,3,4,5]\n",
    "kume=set(numbers)\n",
    "kume"
   ]
  },
  {
   "cell_type": "code",
   "execution_count": 53,
   "id": "43052ae5-bbdd-425d-b7a6-0488b90f1697",
   "metadata": {},
   "outputs": [
    {
     "data": {
      "text/plain": [
       "{2, 3, 5, 7, 11, 13, 17, 19}"
      ]
     },
     "execution_count": 53,
     "metadata": {},
     "output_type": "execute_result"
    }
   ],
   "source": [
    "rakam={2,3,5,7,11,13,17}\n",
    "rakam.add(19)\n",
    "rakam"
   ]
  },
  {
   "cell_type": "code",
   "execution_count": 56,
   "id": "e35fd399-0761-4172-a397-7fd5e2b1be5f",
   "metadata": {},
   "outputs": [
    {
     "data": {
      "text/plain": [
       "{6, 12, 18}"
      ]
     },
     "execution_count": 56,
     "metadata": {},
     "output_type": "execute_result"
    }
   ],
   "source": [
    "sayi={i for i in range(2,21,2) if i%3==0}   #tuple de bu şekilde yazamazsın. Çünkü append komutu yyok.\n",
    "sayi"
   ]
  },
  {
   "cell_type": "code",
   "execution_count": 57,
   "id": "a1ebf440-4782-4f8c-be9b-a36be4125dee",
   "metadata": {},
   "outputs": [
    {
     "data": {
      "text/plain": [
       "{' ', 'P', 'a', 'e', 'h', 'i', 'm', 'n', 'o', 's', 't', 'w', 'y'}"
      ]
     },
     "execution_count": 57,
     "metadata": {},
     "output_type": "execute_result"
    }
   ],
   "source": [
    "string=\"Python is awesome\"\n",
    "stringSet=set(string)\n",
    "stringSet"
   ]
  },
  {
   "cell_type": "code",
   "execution_count": 59,
   "id": "7d256c70-fc96-422c-bb01-d40545157d6b",
   "metadata": {},
   "outputs": [
    {
     "data": {
      "text/plain": [
       "{'Python', 'awesome', 'is'}"
      ]
     },
     "execution_count": 59,
     "metadata": {},
     "output_type": "execute_result"
    }
   ],
   "source": [
    "string=\"Python is is awesome\"\n",
    "stringSet=set(string.split())\n",
    "stringSet"
   ]
  },
  {
   "cell_type": "code",
   "execution_count": 60,
   "id": "8f3943b2-9447-4fd2-9f27-a89d6fc9a7db",
   "metadata": {},
   "outputs": [
    {
     "data": {
      "text/plain": [
       "{'a', 'e', 'i', 'o', 'w', 'y'}"
      ]
     },
     "execution_count": 60,
     "metadata": {},
     "output_type": "execute_result"
    }
   ],
   "source": [
    "vowels={'a','e','i','o','u','y','w'}\n",
    "d=\"Python is awersome\"\n",
    "d=set(d)\n",
    "c=vowels & d\n",
    "c"
   ]
  },
  {
   "cell_type": "code",
   "execution_count": 61,
   "id": "61327ff9-6283-4716-a2f5-05f54cf18df7",
   "metadata": {},
   "outputs": [
    {
     "name": "stdout",
     "output_type": "stream",
     "text": [
      "u\n",
      "e\n",
      "y\n",
      "o\n",
      "a\n",
      "w\n",
      "i\n"
     ]
    }
   ],
   "source": [
    "# Kümenin elemanlarına indexle ulaşamazsın. \n",
    "for i in vowels:\n",
    "    print(i)"
   ]
  },
  {
   "cell_type": "code",
   "execution_count": 62,
   "id": "74928450-cb4c-4c22-893f-e4740e220455",
   "metadata": {},
   "outputs": [
    {
     "ename": "TypeError",
     "evalue": "'set' object is not subscriptable",
     "output_type": "error",
     "traceback": [
      "\u001b[1;31m---------------------------------------------------------------------------\u001b[0m",
      "\u001b[1;31mTypeError\u001b[0m                                 Traceback (most recent call last)",
      "\u001b[1;32m~\\AppData\\Local\\Temp/ipykernel_8300/2924864845.py\u001b[0m in \u001b[0;36m<module>\u001b[1;34m\u001b[0m\n\u001b[1;32m----> 1\u001b[1;33m \u001b[0mvowels\u001b[0m\u001b[1;33m[\u001b[0m\u001b[1;36m3\u001b[0m\u001b[1;33m]\u001b[0m\u001b[1;33m\u001b[0m\u001b[1;33m\u001b[0m\u001b[0m\n\u001b[0m",
      "\u001b[1;31mTypeError\u001b[0m: 'set' object is not subscriptable"
     ]
    }
   ],
   "source": [
    "vowels[3]"
   ]
  },
  {
   "cell_type": "code",
   "execution_count": 63,
   "id": "48eb09ca-463e-4809-b4fe-a6974f257fb8",
   "metadata": {},
   "outputs": [
    {
     "data": {
      "text/plain": [
       "[(11, 15), (55, 11), (11, 11)]"
      ]
     },
     "execution_count": 63,
     "metadata": {},
     "output_type": "execute_result"
    }
   ],
   "source": [
    "sampleList= [(11,15),(85,12),(55,11),(11,11)]\n",
    "liste=[i for i in sampleList if i[0]==11 or i[1]==11]\n",
    "liste"
   ]
  },
  {
   "cell_type": "code",
   "execution_count": null,
   "id": "8d5bac4a-7744-42c1-8e20-b9de4d94c293",
   "metadata": {},
   "outputs": [],
   "source": [
    "s=\"Duursuun Ali Kara Kaya Kara Kartopu ZZel\"\n",
    "for i in s.split():\n",
    "    if \"Ka\" in i:\n",
    "        print(i)\n"
   ]
  },
  {
   "cell_type": "code",
   "execution_count": 65,
   "id": "ec838829-c45f-4ee8-aa5d-71cd6c149e39",
   "metadata": {},
   "outputs": [
    {
     "data": {
      "text/plain": [
       "'yokk'"
      ]
     },
     "execution_count": 65,
     "metadata": {},
     "output_type": "execute_result"
    }
   ],
   "source": [
    "Customer={\n",
    "    \"name\": \"Ali\",\n",
    "    \"Tlf\" : \"0532 555 555\",\n",
    "    \"Sehir\": \"Ankara\",\n",
    "    \"Yaş\"  : 35\n",
    "}\n",
    "\n",
    "\n",
    "Customer.get(\"iname\",\"yokk\") # Eğer baş isimli bir key yoksa defalt None döndürür. Yyoksa yok yazar"
   ]
  },
  {
   "cell_type": "code",
   "execution_count": 66,
   "id": "3c5bc3eb-69c2-4bb0-9e57-37c8372c0631",
   "metadata": {},
   "outputs": [
    {
     "data": {
      "text/plain": [
       "dict_keys(['name', 'Tlf', 'Sehir', 'Yaş'])"
      ]
     },
     "execution_count": 66,
     "metadata": {},
     "output_type": "execute_result"
    }
   ],
   "source": [
    "Customer.keys()"
   ]
  },
  {
   "cell_type": "code",
   "execution_count": 67,
   "id": "8a745bae-4fce-43ce-8479-173bf8d4ddb1",
   "metadata": {},
   "outputs": [
    {
     "data": {
      "text/plain": [
       "dict_values(['Ali', '0532 555 555', 'Ankara', 35])"
      ]
     },
     "execution_count": 67,
     "metadata": {},
     "output_type": "execute_result"
    }
   ],
   "source": [
    "Customer.values()"
   ]
  },
  {
   "cell_type": "code",
   "execution_count": 68,
   "id": "51d413b6-b2b1-4956-9e13-9d63554c91b4",
   "metadata": {},
   "outputs": [
    {
     "name": "stdout",
     "output_type": "stream",
     "text": [
      "name : Ali\n",
      "Tlf : 0532 555 555\n",
      "Sehir : Ankara\n",
      "Yaş : 35\n"
     ]
    }
   ],
   "source": [
    "for key,value in Customer.items():\n",
    "    print(f\"{key} : {value}\")"
   ]
  },
  {
   "cell_type": "code",
   "execution_count": 69,
   "id": "292d312e-4abd-411c-ac47-d47cf233fc76",
   "metadata": {},
   "outputs": [
    {
     "data": {
      "text/plain": [
       "{'name': 'Ali', 'Tlf': '0532 555 555', 'Sehir': 'Ankara', 'Yaş': 35}"
      ]
     },
     "execution_count": 69,
     "metadata": {},
     "output_type": "execute_result"
    }
   ],
   "source": [
    "Customer"
   ]
  },
  {
   "cell_type": "code",
   "execution_count": 70,
   "id": "5614f8c5-63b8-4900-b3f1-23832b024c43",
   "metadata": {},
   "outputs": [
    {
     "name": "stdout",
     "output_type": "stream",
     "text": [
      "name\n",
      "Tlf\n",
      "Sehir\n",
      "Yaş\n"
     ]
    }
   ],
   "source": [
    "for key in Customer: \n",
    "    print(f\"{key}\")"
   ]
  },
  {
   "cell_type": "code",
   "execution_count": 71,
   "id": "e3b71354-52c4-4568-857d-0b3cf0e36259",
   "metadata": {},
   "outputs": [
    {
     "name": "stdout",
     "output_type": "stream",
     "text": [
      "Ali\n",
      "0532 555 555\n",
      "Ankara\n",
      "35\n"
     ]
    }
   ],
   "source": [
    "for key in Customer.keys():\n",
    "    print(Customer[key])"
   ]
  },
  {
   "cell_type": "code",
   "execution_count": 72,
   "id": "a3f82f14-7264-4653-a839-dc6bdd5c7057",
   "metadata": {},
   "outputs": [
    {
     "data": {
      "text/plain": [
       "35"
      ]
     },
     "execution_count": 72,
     "metadata": {},
     "output_type": "execute_result"
    }
   ],
   "source": [
    "Customer.pop(\"Yaş\")"
   ]
  },
  {
   "cell_type": "code",
   "execution_count": 73,
   "id": "2e82a709-208a-425b-abc5-e4033ef68792",
   "metadata": {},
   "outputs": [],
   "source": [
    "Customer.clear()"
   ]
  },
  {
   "cell_type": "code",
   "execution_count": 74,
   "id": "7f8a3ac9-a481-4c25-af0c-bcbbba71b6e7",
   "metadata": {},
   "outputs": [],
   "source": [
    "Customer.update(name=\"Paşa Bey\",Şehir=\"Gülşehir\",Yaş=35,soner=\"Ay\")"
   ]
  },
  {
   "cell_type": "code",
   "execution_count": 75,
   "id": "f5ca235b-f6a7-402b-ba2d-ee9c453c8963",
   "metadata": {},
   "outputs": [
    {
     "data": {
      "text/plain": [
       "{'name': 'Paşa Bey', 'Şehir': 'Gülşehir', 'Yaş': 35, 'soner': 'Ay'}"
      ]
     },
     "execution_count": 75,
     "metadata": {},
     "output_type": "execute_result"
    }
   ],
   "source": [
    "Customer"
   ]
  },
  {
   "cell_type": "code",
   "execution_count": 77,
   "id": "b38d9d82-95e8-454d-99fe-da138bef48b9",
   "metadata": {},
   "outputs": [
    {
     "name": "stdin",
     "output_type": "stream",
     "text": [
      " 2577\n"
     ]
    },
    {
     "data": {
      "text/plain": [
       "'İkiBeş******'"
      ]
     },
     "execution_count": 77,
     "metadata": {},
     "output_type": "execute_result"
    }
   ],
   "source": [
    "DigitMap={\"0\":\"Sıfır\",\"1\":\"Bir\",\"2\": \"İki\", \"3\":\"Üç\",\"4\":\"Dört\",\"5\":\"Beş\"}\n",
    "List=\"\"\n",
    "a=input()\n",
    "for i in a:\n",
    "    List+=DigitMap.get(i,\"***\")\n",
    "List"
   ]
  },
  {
   "cell_type": "code",
   "execution_count": 78,
   "id": "423500bd-fbb7-49d0-9bea-2bdb39ec2d7f",
   "metadata": {},
   "outputs": [
    {
     "name": "stdout",
     "output_type": "stream",
     "text": [
      "Ali gel ** git ** ve **\n"
     ]
    }
   ],
   "source": [
    "cumle=\"Ali gel kötü_söz1 git kötü_söz2 ve köötü_söz3\"\n",
    "cmle=cumle.split()\n",
    "for i in range(len(cmle)):\n",
    "    if cmle[i]==\"kötü_söz1\" or cmle[i]==\"kötü_söz2\" or cmle[i]==\"köötü_söz3\":\n",
    "        cmle[i]=\"**\"\n",
    "print(\" \".join(cmle))"
   ]
  },
  {
   "cell_type": "code",
   "execution_count": 79,
   "id": "7ba643a4-4602-4d34-81c3-3a0c107d9ebd",
   "metadata": {},
   "outputs": [
    {
     "name": "stdout",
     "output_type": "stream",
     "text": [
      " Cümlesindeki farklı kelime sayısı : 8 dır.\n"
     ]
    }
   ],
   "source": [
    "sentences=\"This is an example set or tuple or dictionary \"\n",
    "sen=set(sentences.split())  # Mükerrer kelimeleri saymasını istemediğimizden set yapıyorz.\n",
    "print(f\" Cümlesindeki farklı kelime sayısı : {len(sen)} dır.\")"
   ]
  },
  {
   "cell_type": "code",
   "execution_count": 81,
   "id": "0c4d5f6f-d6f7-444d-8444-e8b0e2740504",
   "metadata": {},
   "outputs": [
    {
     "data": {
      "text/plain": [
       "['male', 'female', 'male', 'male']"
      ]
     },
     "execution_count": 81,
     "metadata": {},
     "output_type": "execute_result"
    }
   ],
   "source": [
    "train_df = [\"male\", \"female\", \"male\",\"male\"]\n",
    "train_df"
   ]
  },
  {
   "cell_type": "code",
   "execution_count": 82,
   "id": "257120c6-2167-49c3-bcd2-9db10785ea79",
   "metadata": {},
   "outputs": [
    {
     "data": {
      "text/plain": [
       "[1, 0, 1, 1]"
      ]
     },
     "execution_count": 82,
     "metadata": {},
     "output_type": "execute_result"
    }
   ],
   "source": [
    "train_df1 = [0 if k == 'female' else 1 for k in train_df]\n",
    "train_df1"
   ]
  },
  {
   "cell_type": "code",
   "execution_count": 7,
   "id": "bc3004f4-a86b-459c-ab1c-9106c13b6949",
   "metadata": {},
   "outputs": [
    {
     "name": "stdout",
     "output_type": "stream",
     "text": [
      "Requirement already satisfied: google in c:\\users\\dell\\anaconda3\\lib\\site-packages (3.0.0)\n",
      "Requirement already satisfied: beautifulsoup4 in c:\\users\\dell\\anaconda3\\lib\\site-packages (from google) (4.11.1)\n",
      "Requirement already satisfied: soupsieve>1.2 in c:\\users\\dell\\anaconda3\\lib\\site-packages (from beautifulsoup4->google) (2.3.1)\n",
      "https://techproeducation.com/\n",
      "https://twitter.com/techproedu?ref_src=twsrc%5Egoogle%7Ctwcamp%5Eserp%7Ctwgr%5Eauthor\n",
      "https://zoom.us/j/94408259426\n",
      "https://twitter.com/techproedu/status/1558181358018732032?ref_src=twsrc%5Egoogle%7Ctwcamp%5Eserp%7Ctwgr%5Etweet\n",
      "https://www.instagram.com/techproeducation/?hl=en\n",
      "https://tr.linkedin.com/company/techproeducation?trk=similar-pages_result-card_full-click\n",
      "https://www.youtube.com/c/techproeducation\n",
      "https://www.facebook.com/techproeducation/\n",
      "https://careerkarma.com/schools/techpro-education/\n",
      "https://www.udemy.com/user/ibrahim-39792/\n",
      "https://www.switchup.org/bootcamps/techpro-education\n",
      "https://www.coursereport.com/schools/techproeducation\n",
      "https://twitter.com/techproedu\n",
      "https://www.trustpilot.com/review/techproeducation.com\n",
      "https://www.abdpost.com/techpro-education-ile-meslek-sahibi-olun/68772/\n",
      "https://www.signalhire.com/companies/techproeducation\n",
      "https://github.com/techproeducationgit\n",
      "https://linktr.ee/techproeducation1\n",
      "https://trailblazer.me/id/serkand\n",
      "http://abdpostcom.blogspot.com/2021/09/techpro-education-kariyer-kurslar.html\n",
      "https://schools-study.com/techpro-software/\n",
      "https://www.sikayetvar.com/techproeducationcom\n",
      "https://tr.pinterest.com/pin/758575130993184905/\n",
      "https://trgasinomqfum.netlify.app/davaz79499/311622.html\n",
      "https://trailblazers.salesforce.com/profileView?u=0054S000001f9p6QAA\n",
      "https://education.hpe.com/tr/tr/training/elearning.html\n",
      "https://mobillegends.net/full-stack-automation-engineer-techpro-education\n",
      "https://aws.amazon.com/partners/training/path-tech-pro/\n",
      "https://cursos.elpais.com/centros/codianacademy-techpro-education-1169048-centrodetalles.htm\n",
      "https://nicelocal.com/dover/education/techproed/\n",
      "https://www.thecompanycheck.com/company/mis-techpro-institute-of-educationfoundation/U80100JK2017NPL010000\n",
      "http://techproeducation.net/\n",
      "https://www.xing.com/profile/MehmetArif_Oezfidan\n",
      "http://beta.zenprospect.com/people/Burcu/Koc/62aed29830ccdc0001821fd4\n",
      "https://vimeo.com/groups/777688/videos/696439032\n",
      "https://mediavidi.com/what-is-salesforce-apex-techpro-education-video/\n",
      "https://www.insiderbiz.in/company/MIS-TECHPRO-INSTITUTE-OF-EDUCATION-FOUNDATION\n",
      "https://techniproedu.com/\n",
      "https://www.tofler.in/mis-techpro-institute-of-education-foundation/company/U80100JK2017NPL010000\n",
      "https://www.tweet247.net/turkey/14+a%C4%9Fustos\n",
      "https://www.itpro.tv/\n",
      "https://pe.gatech.edu/\n",
      "https://rushhourtimes.com/im-a-tech-pro-you-can-make-up-to-200-an-hour-testing-tools-online-and-all-you-need-is-your-phone/\n",
      "https://lifedesignjournals.com/im-a-tech-pro-you-can-make-up-to-200-an-hour-testing-tools-online-and-all-you-need-is-your-phone/\n",
      "http://elchamoconduce.cl.nymrevestimientos.cl/0jt2s/is-it-hard-to-get-a-data-science-job.html\n",
      "https://licindia.in/\n",
      "https://trbul.net/US-techpro-education-dover/\n",
      "https://www.techrepublic.com/\n",
      "https://www.zdnet.com/article/executives-guide-to-lean-it-free-ebook/\n",
      "https://flipboard.com/@TheTelegraph/inflation-pushes-private-school-education-above-500k/a-DpERVfe2SH-SSGUOCCCCBQ%3Aa%3A3199678-98c85b99c3%2Fco.uk\n",
      "https://en.wikipedia.org/wiki/Patrick_Mahomes\n",
      "https://electraliteeducation.com/ynjmsb/tech-to-review.html\n",
      "https://trshow.info/trs/techpro+education?page=2\n",
      "https://gangulyworld.com/business/personal-finance/1-in-5-americans-still-make-this-rookie-mistake-when-retirement-planning-dont-join-them-smart-change-personal-finance-3/\n",
      "https://www.the-sun.com/money/6000212/scooped-millions-lottery-winnings-cracking-secret-code/\n",
      "https://tipdtde.frauen-gymnastik.de/amazon-test-engineer-salary.html\n",
      "https://prodigitalslr.com/technology/gadgets/climbing-accident-belayers-device-unclipped-itself/\n",
      "https://jinicms.com/entertainment/art/nft-naruto-museum-partners-with-michael-jackson-estate/\n",
      "https://fjzx.milleunbambino.it/protectyoungeyes.html\n",
      "https://kotlinlang.org/education/\n",
      "https://ignite.microsoft.com/\n"
     ]
    }
   ],
   "source": [
    "! pip install google\n",
    "from googlesearch import search\n",
    "query = \"techproedcations\"\n",
    " \n",
    "for url in search(query):\n",
    "    print(url)"
   ]
  },
  {
   "cell_type": "code",
   "execution_count": 4,
   "id": "3bd8b129-b82f-4ad5-9df4-c938e48c1eb1",
   "metadata": {},
   "outputs": [],
   "source": [
    "def selam():\n",
    "    print(\"Merhaba Hoş Geldiniz\")\n",
    "    return "
   ]
  },
  {
   "cell_type": "code",
   "execution_count": 6,
   "id": "b5743f7c-82fc-474d-b5fb-b0bde10c97ca",
   "metadata": {},
   "outputs": [
    {
     "name": "stdout",
     "output_type": "stream",
     "text": [
      "Merhaba Hoş Geldiniz\n"
     ]
    }
   ],
   "source": [
    "selam()"
   ]
  },
  {
   "cell_type": "markdown",
   "id": "762f99c2-7a7d-4c78-8570-bd754ac01009",
   "metadata": {},
   "source": [
    "### Değişkenin ismini rakamla değiştirmek"
   ]
  },
  {
   "cell_type": "code",
   "execution_count": null,
   "id": "f2beb85d-ad3d-4dbf-8370-70aabbb0c150",
   "metadata": {},
   "outputs": [
    {
     "name": "stdout",
     "output_type": "stream",
     "text": [
      "developer1\n",
      "developer2\n",
      "developer3\n",
      "developer4\n"
     ]
    }
   ],
   "source": [
    "for i in range(1,5):\n",
    "    print()\n",
    "    pr.Developer.show_info(eval('developer'+str(i)))"
   ]
  },
  {
   "cell_type": "code",
   "execution_count": null,
   "id": "5993c2a0-62b8-4e03-9c73-a0d12e4790d3",
   "metadata": {},
   "outputs": [],
   "source": []
  }
 ],
 "metadata": {
  "kernelspec": {
   "display_name": "Python 3 (ipykernel)",
   "language": "python",
   "name": "python3"
  },
  "language_info": {
   "codemirror_mode": {
    "name": "ipython",
    "version": 3
   },
   "file_extension": ".py",
   "mimetype": "text/x-python",
   "name": "python",
   "nbconvert_exporter": "python",
   "pygments_lexer": "ipython3",
   "version": "3.9.12"
  },
  "widgets": {
   "application/vnd.jupyter.widget-state+json": {
    "state": {},
    "version_major": 2,
    "version_minor": 0
   }
  }
 },
 "nbformat": 4,
 "nbformat_minor": 5
}
