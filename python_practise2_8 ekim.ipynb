{
 "cells": [
  {
   "cell_type": "markdown",
   "id": "9ef8c89d",
   "metadata": {},
   "source": [
    "# IF Değimi"
   ]
  },
  {
   "cell_type": "code",
   "execution_count": 65,
   "id": "6a5892e2",
   "metadata": {},
   "outputs": [
    {
     "name": "stdin",
     "output_type": "stream",
     "text": [
      "Yaşınızı giriniz ? 20\n"
     ]
    },
    {
     "name": "stdout",
     "output_type": "stream",
     "text": [
      "Yirmi yaşında\n"
     ]
    }
   ],
   "source": [
    "x=int(input(\"Yaşınızı giriniz ?\" ))\n",
    "if x==20:\n",
    "    print(\"Yirmi yaşında\")\n",
    "elif x<20:\n",
    "    print(\"yirmi yaş altı\")\n",
    "else:\n",
    "    print(\"Yirmi yaş üstü\")"
   ]
  },
  {
   "cell_type": "code",
   "execution_count": 66,
   "id": "99d4360f",
   "metadata": {},
   "outputs": [
    {
     "name": "stdout",
     "output_type": "stream",
     "text": [
      "yok\n",
      "['a', 'b', 'c', 'f', 't', 'n', 'n']\n"
     ]
    },
    {
     "data": {
      "text/plain": [
       "['a', 'b', 'c', 'f', 't', 'n', 'n']"
      ]
     },
     "execution_count": 66,
     "metadata": {},
     "output_type": "execute_result"
    }
   ],
   "source": [
    "lis=[\"a\",\"b\",\"c\",\"f\",\"t\"]\n",
    "if \"n\" in lis:\n",
    "    print(\"var\")\n",
    "else:\n",
    "    print(\"yok\")\n",
    "    lis.append('n')\n",
    "    lis=lis+[\"n\"]\n",
    "    print(lis)\n",
    "lis"
   ]
  },
  {
   "cell_type": "code",
   "execution_count": 70,
   "id": "9a9db0d6",
   "metadata": {},
   "outputs": [
    {
     "name": "stdout",
     "output_type": "stream",
     "text": [
      "A\n"
     ]
    }
   ],
   "source": [
    "a = 700 # Sonuc=50\n",
    "b= 600\n",
    "print(\"A\") if a > b else print(\"=\") if a == b else print(\"B\")"
   ]
  },
  {
   "cell_type": "code",
   "execution_count": 71,
   "id": "95860529",
   "metadata": {},
   "outputs": [
    {
     "name": "stdout",
     "output_type": "stream",
     "text": [
      "A\n"
     ]
    }
   ],
   "source": [
    "if a>b :\n",
    "    print('A')\n",
    "elif a==b :\n",
    "    print('=')\n",
    "else :\n",
    "    print('B')"
   ]
  },
  {
   "cell_type": "code",
   "execution_count": 74,
   "id": "9ababf13",
   "metadata": {},
   "outputs": [
    {
     "name": "stdin",
     "output_type": "stream",
     "text": [
      "En az beş harfli bir kelime gir: dort4\n"
     ]
    },
    {
     "data": {
      "text/plain": [
       "True"
      ]
     },
     "execution_count": 74,
     "metadata": {},
     "output_type": "execute_result"
    }
   ],
   "source": [
    "x=input(\"En az beş harfli bir kelime gir:\")\n",
    "x[4].isdigit()   #4. index değeri sayısal mı?"
   ]
  },
  {
   "cell_type": "code",
   "execution_count": 76,
   "id": "b0aa9afa",
   "metadata": {},
   "outputs": [
    {
     "name": "stdin",
     "output_type": "stream",
     "text": [
      "Bir kelime gir : Üşüttüm\n"
     ]
    },
    {
     "name": "stdout",
     "output_type": "stream",
     "text": [
      "Gird. kelimenin içinde: 3 adet \"ü\" vardır.\n"
     ]
    }
   ],
   "source": [
    "x=input(\"Bir kelime gir :\")\n",
    "print(\"Gird. kelimenin içinde: {} adet \\\"ü\\\" vardır.\".format(x.lower().count(\"ü\")))"
   ]
  },
  {
   "cell_type": "code",
   "execution_count": null,
   "id": "91e6f377",
   "metadata": {},
   "outputs": [],
   "source": []
  },
  {
   "cell_type": "markdown",
   "id": "d314c066",
   "metadata": {},
   "source": [
    "# For Döngüsü"
   ]
  },
  {
   "cell_type": "code",
   "execution_count": 78,
   "id": "1798bd49",
   "metadata": {
    "tags": []
   },
   "outputs": [
    {
     "name": "stdout",
     "output_type": "stream",
     "text": [
      "a\tb\td\t1\t2\t3\t\n",
      "a\n",
      "b\n",
      "d\n",
      "1\n",
      "2\n",
      "3\n"
     ]
    }
   ],
   "source": [
    "Kisiler=[\"a\",\"b\",\"d\",1,2,3]\n",
    "for kisi in Kisiler:\n",
    "    print(kisi,end=\"\\t\")\n",
    "print()\n",
    "for kisi in Kisiler:\n",
    "    print(kisi)"
   ]
  },
  {
   "cell_type": "code",
   "execution_count": 79,
   "id": "db0c4857",
   "metadata": {
    "tags": []
   },
   "outputs": [
    {
     "name": "stdout",
     "output_type": "stream",
     "text": [
      "0 ali\n",
      "1 b\n",
      "2 d\n",
      "3 1\n",
      "4 2\n",
      "5 3\n"
     ]
    }
   ],
   "source": [
    "Kisiler1=[\"ali\",\"b\",\"d\",1,2,3]\n",
    "dongu=0\n",
    "for kisi in Kisiler1:\n",
    "    print(dongu,kisi)  \n",
    "    dongu+=1  # dongu=dongu+1"
   ]
  },
  {
   "cell_type": "code",
   "execution_count": 15,
   "id": "c0deb224-6db3-40f3-aea2-bdef7fa54187",
   "metadata": {
    "tags": []
   },
   "outputs": [
    {
     "name": "stdout",
     "output_type": "stream",
     "text": [
      "0 ali\n",
      "1 b\n",
      "2 d\n",
      "3 1\n",
      "4 2\n",
      "5 3\n"
     ]
    }
   ],
   "source": [
    "for i, v in enumerate(Kisiler1):\n",
    "     print(i, v)"
   ]
  },
  {
   "cell_type": "code",
   "execution_count": 82,
   "id": "fec1ad3b",
   "metadata": {
    "tags": []
   },
   "outputs": [
    {
     "name": "stdout",
     "output_type": "stream",
     "text": [
      "Ahmet Mımız\n",
      "['Ahmet', 'Mımız']\n",
      "Selami Yamaç\n",
      "['Selami', 'Yamaç']\n",
      "Abbas Yolcu\n",
      "['Abbas', 'Yolcu']\n",
      "Hasan Kurut\n",
      "['Hasan', 'Kurut']\n"
     ]
    }
   ],
   "source": [
    "Liste=[\"Ahmet Mımız\",\"Selami Yamaç\",\"Abbas Yolcu\",\"Hasan Kurut\"]\n",
    "for i in Liste:\n",
    "    print(i)\n",
    "    s=i.split()\n",
    "    print(s)   "
   ]
  },
  {
   "cell_type": "code",
   "execution_count": 84,
   "id": "b271a07b",
   "metadata": {
    "tags": []
   },
   "outputs": [
    {
     "name": "stdout",
     "output_type": "stream",
     "text": [
      "2.Adı Ahmet,  Soyadı Mızmız\n",
      "3.Adı Selami,  Soyadı Yan\n",
      "4.Adı Abbas,  Soyadı Yolcu\n",
      "5.Adı Hasan,  Soyadı Kurut\n"
     ]
    }
   ],
   "source": [
    "sira=1\n",
    "Liste=[\"Ahmet Mızmız\",\"Selami Yan\",\"Abbas Yolcu\",\"Hasan Kurut\"]\n",
    "for i in Liste:\n",
    "    adi,soyadi=i.split()[0],i.split()[1]\n",
    "    print('{}.Adı {},  Soyadı {}'.format(sira,adi,soyadi))\n",
    "    sira+=1\n",
    "    # print('{0}.Adı {1},Soyadı {2}'.format(sira,adi,soyadi))\n",
    "    # print(f\"{sira}.Adı {adi},  Soyadı {soyadi}\")"
   ]
  },
  {
   "cell_type": "code",
   "execution_count": 59,
   "id": "4fd07229-dfcc-48f4-9390-946da8c08b9a",
   "metadata": {},
   "outputs": [
    {
     "name": "stdout",
     "output_type": "stream",
     "text": [
      "http://www.google.com\n",
      "http://www.istihza.com\n",
      "http://www.yahoo.com\n",
      "http://www.gnu.org\n"
     ]
    }
   ],
   "source": [
    "# Adreslerin önüne http yazmak\n",
    "site1 = \"www.google.com\"\n",
    "site2 = \"www.istihza.com\"\n",
    "site3 = \"www.yahoo.com\"\n",
    "site4 = \"www.gnu.org\"\n",
    "\n",
    "for i in site1, site2, site3, site4:\n",
    "    print(\"http://\", i, sep=\"\")"
   ]
  },
  {
   "cell_type": "code",
   "execution_count": 64,
   "id": "c0f289c0-2cbd-4335-999c-e1a3e570b649",
   "metadata": {},
   "outputs": [
    {
     "name": "stdout",
     "output_type": "stream",
     "text": [
      "http//www.google.com\n",
      "http//www.istihza.com\n",
      "http//www.yahoo.com\n",
      "http//www.gnu.org\n"
     ]
    }
   ],
   "source": [
    "site1 = \"www.google.com\"\n",
    "site2 = \"www.istihza.com\"\n",
    "site3 = \"www.yahoo.com\"\n",
    "site4 = \"www.gnu.org\"\n",
    "for i in site1, site2, site3, site4:\n",
    "        print(i.replace(\"www\",\"http//www\"))\n"
   ]
  },
  {
   "cell_type": "code",
   "execution_count": null,
   "id": "f930cfa9-bed4-4fc9-b868-136650cb48b5",
   "metadata": {},
   "outputs": [],
   "source": [
    "help(str)"
   ]
  },
  {
   "cell_type": "code",
   "execution_count": 32,
   "id": "5df160ef-b5db-4d0f-a201-97403a8c11c5",
   "metadata": {},
   "outputs": [
    {
     "data": {
      "text/plain": [
       "10"
      ]
     },
     "execution_count": 32,
     "metadata": {},
     "output_type": "execute_result"
    }
   ],
   "source": [
    "len(\"asdfrtyu89\")"
   ]
  },
  {
   "cell_type": "code",
   "execution_count": 34,
   "id": "c9a41a3b-183f-46d4-90b8-60c9f3393c0d",
   "metadata": {},
   "outputs": [
    {
     "data": {
      "text/plain": [
       "7"
      ]
     },
     "execution_count": 34,
     "metadata": {},
     "output_type": "execute_result"
    }
   ],
   "source": [
    "len([1,4,7,8,9,\"Sümbül Hanım\",\"g\"])"
   ]
  },
  {
   "cell_type": "code",
   "execution_count": 90,
   "id": "715bb0cf-e849-4cee-9114-a3b095bf9bed",
   "metadata": {},
   "outputs": [],
   "source": [
    "a=[1,4,7,8,9,\"Sümbül Hanım\",\"g\"]"
   ]
  },
  {
   "cell_type": "code",
   "execution_count": 91,
   "id": "e86f7d0f-3fbf-4f16-8918-1566cc322064",
   "metadata": {},
   "outputs": [
    {
     "data": {
      "text/plain": [
       "12"
      ]
     },
     "execution_count": 91,
     "metadata": {},
     "output_type": "execute_result"
    }
   ],
   "source": [
    "len(a[5])"
   ]
  },
  {
   "cell_type": "markdown",
   "id": "8cb39689",
   "metadata": {},
   "source": [
    "# Tuple"
   ]
  },
  {
   "cell_type": "code",
   "execution_count": 92,
   "id": "a685f330",
   "metadata": {
    "tags": []
   },
   "outputs": [
    {
     "name": "stdout",
     "output_type": "stream",
     "text": [
      "1\n",
      "22\n",
      "ahmet\n"
     ]
    },
    {
     "data": {
      "text/plain": [
       "tuple"
      ]
     },
     "execution_count": 92,
     "metadata": {},
     "output_type": "execute_result"
    }
   ],
   "source": [
    "x=1,22,\"ahmet\"\n",
    "for y in x:\n",
    "    print(y)\n",
    "type(x)"
   ]
  },
  {
   "cell_type": "code",
   "execution_count": 93,
   "id": "a31613b6",
   "metadata": {
    "tags": []
   },
   "outputs": [
    {
     "name": "stdout",
     "output_type": "stream",
     "text": [
      "ali veli\n",
      "1 2\n"
     ]
    },
    {
     "data": {
      "text/plain": [
       "tuple"
      ]
     },
     "execution_count": 93,
     "metadata": {},
     "output_type": "execute_result"
    }
   ],
   "source": [
    "a=([\"ali\",\"veli\"],[1,2])\n",
    "#print(type(a))  <class 'tuple'>\n",
    "for f in a:\n",
    "    print(f[0],f[1])\n",
    "type(a)"
   ]
  },
  {
   "cell_type": "code",
   "execution_count": 94,
   "id": "afb11acd",
   "metadata": {
    "tags": []
   },
   "outputs": [
    {
     "name": "stdout",
     "output_type": "stream",
     "text": [
      "veli\n",
      "2\n"
     ]
    }
   ],
   "source": [
    "a=([\"ali\",\"veli\"],[1,2])\n",
    "for i,j in a:                   #değişken sayısı ile eleman sayısı aynı olmalı i,j=ali,veli\n",
    "    print(j)                     #sayısal işlemde yapılabilir."
   ]
  },
  {
   "cell_type": "code",
   "execution_count": 95,
   "id": "6e3de3fc",
   "metadata": {
    "tags": []
   },
   "outputs": [
    {
     "name": "stdout",
     "output_type": "stream",
     "text": [
      "2\t12\t30\t56\t"
     ]
    },
    {
     "data": {
      "text/plain": [
       "(16, 20)"
      ]
     },
     "execution_count": 95,
     "metadata": {},
     "output_type": "execute_result"
    }
   ],
   "source": [
    "a=([1,2],[3,4],[5,6],[7,8])\n",
    "ti=0;tj=0\n",
    "for i,j in a:\n",
    "    print(i*j,end='\\t')\n",
    "    ti+=i\n",
    "    tj+=j\n",
    "ti,tj"
   ]
  },
  {
   "cell_type": "markdown",
   "id": "262b70f6",
   "metadata": {},
   "source": [
    "# Dictionary"
   ]
  },
  {
   "cell_type": "code",
   "execution_count": 97,
   "id": "84c8c6d2",
   "metadata": {},
   "outputs": [
    {
     "name": "stdout",
     "output_type": "stream",
     "text": [
      "key: no            \t value : 1\n",
      "key: Kitap adı     \t value : Keloğlan ile Balkız\n",
      "key: Yazarının adı \t value : Recep Atma\n"
     ]
    }
   ],
   "source": [
    "kayit={\n",
    "    'no           ':1,\n",
    "    'Kitap adı    ':'Keloğlan ile Balkız',\n",
    "    'Yazarının adı':'Recep Atma'\n",
    "    }\n",
    "for x,y in kayit.items():\n",
    "    print(\"key: {} \\t value : {}\".format(x,y))"
   ]
  },
  {
   "cell_type": "code",
   "execution_count": 96,
   "id": "0742d557",
   "metadata": {},
   "outputs": [
    {
     "name": "stdout",
     "output_type": "stream",
     "text": [
      "\"key: no        \t value : 1\n",
      "\"key: Kitap adı \t value : Keloğlan ile Balkız\n",
      "\"key: Yazarının adı \t value : Sezai Bakma\n"
     ]
    }
   ],
   "source": [
    "kayit={\n",
    "    'no       ':1,\n",
    "    'Kitap adı':'Keloğlan ile Balkız',\n",
    "    'Yazarının adı':'Sezai Bakma'\n",
    "    }\n",
    "kayit\n",
    "for x in kayit.items():\n",
    "     print(\"\\\"key: {} \\t value : {}\".format(x[0],x[1]))"
   ]
  },
  {
   "cell_type": "code",
   "execution_count": 98,
   "id": "d4340b1c",
   "metadata": {},
   "outputs": [
    {
     "data": {
      "text/plain": [
       "\"ello World 'ali'\""
      ]
     },
     "execution_count": 98,
     "metadata": {},
     "output_type": "execute_result"
    }
   ],
   "source": [
    "myfruuit=\"Hello WorHld 'ali'\"\n",
    "myfruuit.replace(\"H\",\"\")"
   ]
  },
  {
   "cell_type": "code",
   "execution_count": 106,
   "id": "9227af54",
   "metadata": {},
   "outputs": [
    {
     "data": {
      "text/plain": [
       "'numara    45.000000'"
      ]
     },
     "execution_count": 106,
     "metadata": {},
     "output_type": "execute_result"
    }
   ],
   "source": [
    "n=45\n",
    "\"numara    %f\" %n                 #%f.3\n",
    "#print(\"numara   %d\" %n)"
   ]
  },
  {
   "cell_type": "code",
   "execution_count": 113,
   "id": "dcf2e2c2",
   "metadata": {},
   "outputs": [
    {
     "data": {
      "text/plain": [
       "'john is 15 years old'"
      ]
     },
     "execution_count": 113,
     "metadata": {},
     "output_type": "execute_result"
    }
   ],
   "source": [
    "name=\"john\"\n",
    "age=15\n",
    "\"%s is %d years old\" %(name,age)  "
   ]
  },
  {
   "cell_type": "code",
   "execution_count": 114,
   "id": "033eb271",
   "metadata": {},
   "outputs": [
    {
     "name": "stdout",
     "output_type": "stream",
     "text": [
      "hıdır  mıdır  Var \n"
     ]
    }
   ],
   "source": [
    "data={\n",
    "    \"ad\":\"hıdır\",\n",
    "    \"s\":\"mıdır\",\n",
    "    \"S\":\"Var\"\n",
    "    }\n",
    "print(\"{ad}  {s}  {S} \".format_map(data))"
   ]
  },
  {
   "cell_type": "code",
   "execution_count": 115,
   "id": "e3b54230",
   "metadata": {},
   "outputs": [
    {
     "data": {
      "text/plain": [
       "4"
      ]
     },
     "execution_count": 115,
     "metadata": {},
     "output_type": "execute_result"
    }
   ],
   "source": [
    "s=\"adgsrgb  ıjjJhgOIUYıopjhHHd\"\n",
    "s.lower().count(\"j\")"
   ]
  },
  {
   "cell_type": "code",
   "execution_count": 126,
   "id": "5608d82c",
   "metadata": {},
   "outputs": [
    {
     "name": "stdout",
     "output_type": "stream",
     "text": [
      "----#----\n",
      "---###---\n",
      "--#####--\n",
      "-#######-\n",
      "#########\n",
      "-#######--\n",
      "--#####---\n",
      "---###----\n",
      "----#-----\n"
     ]
    }
   ],
   "source": [
    "for i in range(1,10,2): \n",
    "    print((\"#\"*i).center(9,\"-\"))\n",
    "for i in range(7,0,-2):\n",
    "    print((\"#\"*i).center(10,\"-\"))"
   ]
  },
  {
   "cell_type": "code",
   "execution_count": 127,
   "id": "6a4d78fb",
   "metadata": {},
   "outputs": [
    {
     "name": "stdout",
     "output_type": "stream",
     "text": [
      "murat.akca@techproed.com\n",
      "murat.akca\n"
     ]
    }
   ],
   "source": [
    "data=\"From murat.akca@techproed.com Sat Jan 4 19:10:16 2011\"\n",
    "y=data.split()\n",
    "for x in y:\n",
    "    if \"@\" in x:\n",
    "        print(x)\n",
    "        print(x.split(\"@\")[0])\n",
    "        "
   ]
  },
  {
   "cell_type": "markdown",
   "id": "ad1a49a2",
   "metadata": {},
   "source": [
    "# Template  (Şablon)"
   ]
  },
  {
   "cell_type": "code",
   "execution_count": 128,
   "id": "a46dc33c",
   "metadata": {},
   "outputs": [
    {
     "name": "stdout",
     "output_type": "stream",
     "text": [
      "Sayın Esra Hanımefendi\n",
      "April,2021 tarihinde yapmıs oldugunuz,\n",
      "\n",
      "iş ile ilgili basvurunuz onaylanmıştır. İşe alındınız\n"
     ]
    }
   ],
   "source": [
    "from  string import Template\n",
    "text=Template(\"\"\"Sayın $name Hanımefendi\\n$date tarihinde yapmıs oldugunuz,\n",
    "\\n$konu ile ilgili basvurunuz onaylanmıştır. İşe alındınız\"\"\")\n",
    "sonuc=text.substitute(name=\"Esra\",date=\"April,2021\",konu=\"iş\")\n",
    "print(sonuc)"
   ]
  },
  {
   "cell_type": "code",
   "execution_count": 131,
   "id": "0b4b895b",
   "metadata": {},
   "outputs": [
    {
     "name": "stdout",
     "output_type": "stream",
     "text": [
      "True\n",
      "False\n"
     ]
    }
   ],
   "source": [
    "x=6; y=6000\n",
    "print(x is not y)    #is - is not\n",
    "print(50 <= x < 100)"
   ]
  },
  {
   "cell_type": "code",
   "execution_count": 132,
   "id": "056e2ab5",
   "metadata": {},
   "outputs": [
    {
     "name": "stdin",
     "output_type": "stream",
     "text": [
      "Saniye değerini gir :?  456897\n"
     ]
    },
    {
     "name": "stdout",
     "output_type": "stream",
     "text": [
      "126 54 57\n"
     ]
    }
   ],
   "source": [
    "Sec=int(input(\"Saniye değerini gir :? \"))\n",
    "h = Sec//3600    # // bölme işlemindeki bölümün tam sayı kısmını verir\n",
    "Sec = Sec%3600   # % bölmeden kalan değeri veirir. a%b a modülüs b\n",
    "minut = Sec//60\n",
    "Sec = Sec%60\n",
    "print(h,minut,Sec)"
   ]
  },
  {
   "cell_type": "code",
   "execution_count": 133,
   "id": "c22ff6bf",
   "metadata": {},
   "outputs": [
    {
     "data": {
      "text/plain": [
       "False"
      ]
     },
     "execution_count": 133,
     "metadata": {},
     "output_type": "execute_result"
    }
   ],
   "source": [
    "x=1.11-1.10\n",
    "y=2.11-2.10\n",
    "x==y"
   ]
  },
  {
   "cell_type": "code",
   "execution_count": 135,
   "id": "33b68d27-0cd2-4ccc-81a4-27610b474a4a",
   "metadata": {},
   "outputs": [
    {
     "data": {
      "text/plain": [
       "True"
      ]
     },
     "execution_count": 135,
     "metadata": {},
     "output_type": "execute_result"
    }
   ],
   "source": [
    "x=3\n",
    "y=3\n",
    "x==y"
   ]
  },
  {
   "cell_type": "code",
   "execution_count": 136,
   "id": "96546ae4",
   "metadata": {},
   "outputs": [
    {
     "data": {
      "text/plain": [
       "True"
      ]
     },
     "execution_count": 136,
     "metadata": {},
     "output_type": "execute_result"
    }
   ],
   "source": [
    "x='z'; y='yazma'\n",
    "x in y"
   ]
  },
  {
   "cell_type": "code",
   "execution_count": 137,
   "id": "d0b55cc3-92b6-474b-8069-3f2c4846202a",
   "metadata": {},
   "outputs": [
    {
     "ename": "TypeError",
     "evalue": "argument of type 'int' is not iterable",
     "output_type": "error",
     "traceback": [
      "\u001b[1;31m---------------------------------------------------------------------------\u001b[0m",
      "\u001b[1;31mTypeError\u001b[0m                                 Traceback (most recent call last)",
      "Input \u001b[1;32mIn [137]\u001b[0m, in \u001b[0;36m<cell line: 2>\u001b[1;34m()\u001b[0m\n\u001b[0;32m      1\u001b[0m x\u001b[38;5;241m=\u001b[39m\u001b[38;5;241m1\u001b[39m; y\u001b[38;5;241m=\u001b[39m\u001b[38;5;241m123\u001b[39m\n\u001b[1;32m----> 2\u001b[0m \u001b[43mx\u001b[49m\u001b[43m \u001b[49m\u001b[38;5;129;43;01min\u001b[39;49;00m\u001b[43m \u001b[49m\u001b[43my\u001b[49m\n",
      "\u001b[1;31mTypeError\u001b[0m: argument of type 'int' is not iterable"
     ]
    }
   ],
   "source": [
    "x=1; y=123\n",
    "x in y"
   ]
  },
  {
   "cell_type": "code",
   "execution_count": 149,
   "id": "27410885",
   "metadata": {},
   "outputs": [
    {
     "data": {
      "text/plain": [
       "2.51"
      ]
     },
     "execution_count": 149,
     "metadata": {},
     "output_type": "execute_result"
    }
   ],
   "source": [
    "round(2.510,2)  "
   ]
  },
  {
   "cell_type": "code",
   "execution_count": 145,
   "id": "e9a3e20f-ce0e-416a-8d02-a1cd82d8095d",
   "metadata": {},
   "outputs": [
    {
     "name": "stdout",
     "output_type": "stream",
     "text": [
      "Help on built-in function round in module builtins:\n",
      "\n",
      "round(number, ndigits=None)\n",
      "    Round a number to a given precision in decimal digits.\n",
      "    \n",
      "    The return value is an integer if ndigits is omitted or None.  Otherwise\n",
      "    the return value has the same type as the number.  ndigits may be negative.\n",
      "\n"
     ]
    }
   ],
   "source": [
    "help(round)"
   ]
  },
  {
   "cell_type": "code",
   "execution_count": 150,
   "id": "717d8dee",
   "metadata": {},
   "outputs": [
    {
     "data": {
      "text/plain": [
       "True"
      ]
     },
     "execution_count": 150,
     "metadata": {},
     "output_type": "execute_result"
    }
   ],
   "source": [
    "bool([\"0\"])"
   ]
  },
  {
   "cell_type": "code",
   "execution_count": 151,
   "id": "5ae8e2db",
   "metadata": {},
   "outputs": [
    {
     "name": "stdin",
     "output_type": "stream",
     "text": [
      "İsminiz:?  şahap\n"
     ]
    },
    {
     "name": "stdout",
     "output_type": "stream",
     "text": [
      "True\n"
     ]
    }
   ],
   "source": [
    "username=\"şahap\"\n",
    "x=input(\"İsminiz:? \")\n",
    "y=x.lower()\n",
    "z=bool(y==username)\n",
    "if z:\n",
    "    print(z)\n",
    "else:\n",
    "    print(\"Tekrar giriniz\")"
   ]
  },
  {
   "cell_type": "code",
   "execution_count": 156,
   "id": "e28cd220",
   "metadata": {
    "scrolled": true
   },
   "outputs": [
    {
     "data": {
      "text/plain": [
       "[10, 9, 8, 7, 6, 5, 4, 3, 2, 1]"
      ]
     },
     "execution_count": 156,
     "metadata": {},
     "output_type": "execute_result"
    }
   ],
   "source": [
    "# dir(\"string\")\n",
    "list(range(10,0,-1))\n",
    "[*range(10,0,-1)]"
   ]
  },
  {
   "cell_type": "code",
   "execution_count": null,
   "id": "88cbe23c-1e56-40e9-9a39-fb4989d3b8d8",
   "metadata": {},
   "outputs": [],
   "source": [
    "# x=np.array(a)\n",
    "# x[x<5]"
   ]
  },
  {
   "cell_type": "code",
   "execution_count": null,
   "id": "57da4eb8",
   "metadata": {},
   "outputs": [],
   "source": [
    "a=range(0,10,1)\n",
    "#list(a)\n",
    "#[*range(0,10,1)]\n",
    "#[*a]\n",
    "#a"
   ]
  },
  {
   "cell_type": "code",
   "execution_count": 157,
   "id": "d5f372bc",
   "metadata": {},
   "outputs": [
    {
     "name": "stdout",
     "output_type": "stream",
     "text": [
      "7\t8\t9\t"
     ]
    }
   ],
   "source": [
    "for i in range(10):\n",
    "    if i>6:\n",
    "        print(i,end='\\t')"
   ]
  },
  {
   "cell_type": "code",
   "execution_count": 158,
   "id": "68f56824",
   "metadata": {},
   "outputs": [
    {
     "name": "stdout",
     "output_type": "stream",
     "text": [
      "(0, 'a')\n",
      "(1, 'b')\n",
      "(2, 'c')\n",
      "(3, 'd')\n"
     ]
    }
   ],
   "source": [
    "harfler=[\"a\",\"b\",\"c\",\"d\"]\n",
    "for h in enumerate(harfler):\n",
    "    print(h)\n",
    "#type(h) tuple"
   ]
  },
  {
   "cell_type": "code",
   "execution_count": 159,
   "id": "1fc5ebe8",
   "metadata": {},
   "outputs": [
    {
     "name": "stdout",
     "output_type": "stream",
     "text": [
      "1. harf a dir.\n",
      "2. harf b dir.\n",
      "3. harf c dir.\n",
      "4. harf d dir.\n"
     ]
    }
   ],
   "source": [
    "harfler=[\"a\",\"b\",\"c\",\"d\"]\n",
    "for index,h in enumerate(harfler):\n",
    "    #print(index,h)   #index in 1 den başlaması için index+1\n",
    "    print(\"{}. harf {} dir.\".format(index+1,h))"
   ]
  },
  {
   "cell_type": "code",
   "execution_count": 161,
   "id": "f63ee2e0",
   "metadata": {},
   "outputs": [
    {
     "name": "stdout",
     "output_type": "stream",
     "text": [
      "('Istanbul', '34')\n",
      "('İzmir', '35')\n",
      "('Ankara', '06')\n"
     ]
    }
   ],
   "source": [
    "sehirler=['Istanbul',\"İzmir\",\"Ankara\"]\n",
    "plakalar=[\"34\",\"35\",\"06\"]\n",
    "for sehir in zip(sehirler,plakalar):   #boyutlar aynı olmalı\n",
    "    print(sehir)\n",
    "# for sehir,plaka in zip(sehirler,plakalar):  \n",
    "#    print(plaka,sehir)\n",
    "    "
   ]
  },
  {
   "cell_type": "raw",
   "id": "a73fc6e3",
   "metadata": {},
   "source": [
    "# komut yazarken tab a basarsan hatırlatma yapar"
   ]
  },
  {
   "cell_type": "markdown",
   "id": "f4a11e21",
   "metadata": {},
   "source": [
    "# break, continue, pass   (for, while gibi döngülerde kullanılır.)"
   ]
  },
  {
   "cell_type": "code",
   "execution_count": 163,
   "id": "48921bbf",
   "metadata": {},
   "outputs": [
    {
     "name": "stdout",
     "output_type": "stream",
     "text": [
      "d harfi 3 indeksinde bulundu\n",
      "d harfi 7 indeksinde bulundu\n",
      "d harfi 11 indeksinde bulundu\n",
      "d harfi 15 indeksinde bulundu\n",
      "d harfi 19 indeksinde bulundu\n",
      "d harfi 23 indeksinde bulundu\n",
      "d harfi 27 indeksinde bulundu\n",
      "d harfi 31 indeksinde bulundu\n",
      "d harfi 35 indeksinde bulundu\n",
      "d harfi 39 indeksinde bulundu\n"
     ]
    }
   ],
   "source": [
    "harfler=[\"a\",\"b\",\"c\",\"d\"]*10\n",
    "for i,j in enumerate(harfler):\n",
    "    if j==\"d\":\n",
    "        print(\"{} harfi {} indeksinde bulundu\".format(j,i))\n",
    "        #break\n",
    "        "
   ]
  },
  {
   "cell_type": "code",
   "execution_count": 164,
   "id": "1632d44b-63b8-4c81-8ca9-580577f17e0a",
   "metadata": {},
   "outputs": [
    {
     "data": {
      "text/plain": [
       "3"
      ]
     },
     "execution_count": 164,
     "metadata": {},
     "output_type": "execute_result"
    }
   ],
   "source": [
    "harfler.index(\"d\")  # harfler.index(\"d\",4,15)"
   ]
  },
  {
   "cell_type": "code",
   "execution_count": 165,
   "id": "7cda2ab6",
   "metadata": {},
   "outputs": [
    {
     "name": "stdout",
     "output_type": "stream",
     "text": [
      "1\t3\t5\t7\t9\t11\t13\t15\t17\t19\t"
     ]
    }
   ],
   "source": [
    "sayi=range(20)\n",
    "for i in sayi:\n",
    "    if i%2==0:\n",
    "        continue #bu döngüyü atla\n",
    "    print(i,end='\\t')\n",
    "    "
   ]
  },
  {
   "cell_type": "code",
   "execution_count": 166,
   "id": "8cc8cbb1",
   "metadata": {},
   "outputs": [
    {
     "name": "stdout",
     "output_type": "stream",
     "text": [
      "1\t3\t5\t7\t9\t11\t13\t15\t17\t19\t"
     ]
    }
   ],
   "source": [
    "sayi=range(20)\n",
    "for i in sayi:\n",
    "    if i%2==0:\n",
    "        pass # hiç bir şey yapma\n",
    "    else:\n",
    "        print(i,end='\\t')"
   ]
  },
  {
   "cell_type": "code",
   "execution_count": 167,
   "id": "b697dd2a",
   "metadata": {},
   "outputs": [
    {
     "name": "stdin",
     "output_type": "stream",
     "text": [
      "sayi gir : 256\n"
     ]
    },
    {
     "name": "stdout",
     "output_type": "stream",
     "text": [
      "256\n"
     ]
    }
   ],
   "source": [
    "#pass ile ilgili önemli kullanım if deki else kısımla ilgili deneme yapıyorsanız.\n",
    "sayi=int(input(\"sayi gir :\"))\n",
    "if sayi==10:\n",
    "    pass\n",
    "else:\n",
    "    print(sayi)"
   ]
  },
  {
   "cell_type": "code",
   "execution_count": 168,
   "id": "49a37e7d",
   "metadata": {},
   "outputs": [],
   "source": [
    "kullanici1={\n",
    "    \"ad\":'Selahattin',\n",
    "    'soyad':'Anık',\n",
    "    'uzmanlık':['Kaynak']  \n",
    "}\n",
    "kullanici2={\n",
    "    \"ad\":'Akbay',\n",
    "    'soyad':'Gkçen',\n",
    "    'uzmanlık':['Tasarım']  \n",
    "}\n",
    "kullanici3={\n",
    "    \"ad\":'Ali',\n",
    "    'soyad':'Gel',\n",
    "    'uzmanlık':['Tasarım']  \n",
    "}\n",
    "kullanici3[\"uzmanlık\"].append('Fluent')\n",
    "kullanici2[\"uzmanlık\"].append('Python')\n"
   ]
  },
  {
   "cell_type": "code",
   "execution_count": 169,
   "id": "2fc512f3",
   "metadata": {},
   "outputs": [
    {
     "data": {
      "text/plain": [
       "['Tasarım', 'Fluent']"
      ]
     },
     "execution_count": 169,
     "metadata": {},
     "output_type": "execute_result"
    }
   ],
   "source": [
    "kullanici3.get(\"uzmanlık\")"
   ]
  },
  {
   "cell_type": "code",
   "execution_count": 170,
   "id": "71fd54d1",
   "metadata": {},
   "outputs": [
    {
     "name": "stdout",
     "output_type": "stream",
     "text": [
      "Selahattin Anık\n"
     ]
    }
   ],
   "source": [
    "kullanici_list=[kullanici1,kullanici2,kullanici3]\n",
    "#kaynak alanındaki kullanıcıların listesi\n",
    "for kullanici in kullanici_list:\n",
    "    if kullanici.get(\"uzmanlık\")==[\"Kaynak\"]:\n",
    "        print(kullanici.get(\"ad\"),kullanici.get(\"soyad\"))"
   ]
  },
  {
   "cell_type": "code",
   "execution_count": 171,
   "id": "6d5f3299",
   "metadata": {},
   "outputs": [
    {
     "name": "stdout",
     "output_type": "stream",
     "text": [
      "Akbay Gkçen\n",
      "Ali Gel\n"
     ]
    }
   ],
   "source": [
    "for kullanici in kullanici_list:\n",
    "       if \"Tasarım\" in kullanici.get(\"uzmanlık\"):\n",
    "            print(kullanici.get(\"ad\"),kullanici.get(\"soyad\"))"
   ]
  },
  {
   "cell_type": "code",
   "execution_count": 172,
   "id": "fa8ce91e",
   "metadata": {},
   "outputs": [
    {
     "name": "stdout",
     "output_type": "stream",
     "text": [
      "Akbay Gkçen\n"
     ]
    }
   ],
   "source": [
    "for kullanici in kullanici_list:\n",
    "       if \"Python\" in kullanici.get(\"uzmanlık\"):\n",
    "            print(kullanici.get(\"ad\"),kullanici.get(\"soyad\"))"
   ]
  },
  {
   "cell_type": "code",
   "execution_count": 173,
   "id": "0850f2eb",
   "metadata": {},
   "outputs": [
    {
     "name": "stdin",
     "output_type": "stream",
     "text": [
      "yarıçapı giriniz :?  25\n"
     ]
    },
    {
     "name": "stdout",
     "output_type": "stream",
     "text": [
      "Dairenin çapı 50.0 dir. Çevresi 157.0 alanı 1962.5\n"
     ]
    }
   ],
   "source": [
    "r=float(input(\"yarıçapı giriniz :? \"))\n",
    "cap=2*r\n",
    "cevre=2*3.14*r\n",
    "alan=3.14*r**2\n",
    "print(\"Dairenin çapı {} dir. Çevresi {} alanı {}\".format(cap,cevre,alan))"
   ]
  },
  {
   "cell_type": "code",
   "execution_count": 176,
   "id": "c1f67fe9-58d9-475c-aa3a-20d2c8ede5f5",
   "metadata": {},
   "outputs": [
    {
     "name": "stdin",
     "output_type": "stream",
     "text": [
      "yarıçapı giriniz :?  25\n"
     ]
    },
    {
     "name": "stdout",
     "output_type": "stream",
     "text": [
      "Dairenin çapı 50.0 dir. Çevresi 157.0 alanı 1962.5\n"
     ]
    }
   ],
   "source": [
    "r=float(input(\"yarıçapı giriniz :? \"))\n",
    "print(f\"Dairenin çapı {2*r} dir. Çevresi {2*3.14*r} alanı {3.14*r**2}\")"
   ]
  },
  {
   "cell_type": "code",
   "execution_count": 175,
   "id": "c25a04b9",
   "metadata": {},
   "outputs": [
    {
     "name": "stdout",
     "output_type": "stream",
     "text": [
      "123456879\n"
     ]
    }
   ],
   "source": [
    "x=123_456_879\n",
    "print(x)    "
   ]
  },
  {
   "cell_type": "code",
   "execution_count": 178,
   "id": "77e0bbfb",
   "metadata": {},
   "outputs": [
    {
     "name": "stdin",
     "output_type": "stream",
     "text": [
      "sayi:?  26\n"
     ]
    },
    {
     "name": "stdout",
     "output_type": "stream",
     "text": [
      "True\n"
     ]
    }
   ],
   "source": [
    "a=float(input(\"sayi:? \"))\n",
    "c=a%2\n",
    "d=bool(c==0)\n",
    "print(d)       "
   ]
  },
  {
   "cell_type": "code",
   "execution_count": 183,
   "id": "ff94c571",
   "metadata": {},
   "outputs": [],
   "source": [
    "def isim_soy_ayirma(isim_soy):\n",
    "    isim=isim_soy.split()[0]\n",
    "    soyisim=isim_soy.split()[1]\n",
    "    return isim,soyisim"
   ]
  },
  {
   "cell_type": "code",
   "execution_count": 184,
   "id": "42b42ef8",
   "metadata": {},
   "outputs": [
    {
     "data": {
      "text/plain": [
       "('Ahmet', 'Bay')"
      ]
     },
     "execution_count": 184,
     "metadata": {},
     "output_type": "execute_result"
    }
   ],
   "source": [
    "isim_soy_ayirma(\"Ahmet Bay Tere\")"
   ]
  },
  {
   "cell_type": "code",
   "execution_count": 186,
   "id": "2fa0b9bc",
   "metadata": {},
   "outputs": [
    {
     "data": {
      "text/plain": [
       "['Selahattin', 'Anık']"
      ]
     },
     "execution_count": 186,
     "metadata": {},
     "output_type": "execute_result"
    }
   ],
   "source": [
    "\"Selahattin Anık\".split()"
   ]
  },
  {
   "cell_type": "code",
   "execution_count": 187,
   "id": "f8717dca",
   "metadata": {},
   "outputs": [
    {
     "name": "stdout",
     "output_type": "stream",
     "text": [
      "Ahmet\n",
      "Bay\n"
     ]
    }
   ],
   "source": [
    "a,b=isim_soy_ayirma(\"Ahmet Bay\")\n",
    "print(a)\n",
    "print(b)"
   ]
  },
  {
   "cell_type": "code",
   "execution_count": 188,
   "id": "ea32d223",
   "metadata": {},
   "outputs": [
    {
     "data": {
      "text/plain": [
       "'Göçe*Kel'"
      ]
     },
     "execution_count": 188,
     "metadata": {},
     "output_type": "execute_result"
    }
   ],
   "source": [
    "\"*\".join([\"Göçe\",\"Kel\"])  #2 den fazla argüman kllanılmazz. Yerine *Args"
   ]
  },
  {
   "cell_type": "code",
   "execution_count": 189,
   "id": "9069eb71",
   "metadata": {},
   "outputs": [],
   "source": [
    "def ekleme(*args):\n",
    "    return \"-\".join(args)"
   ]
  },
  {
   "cell_type": "code",
   "execution_count": 190,
   "id": "6c01b885",
   "metadata": {},
   "outputs": [
    {
     "data": {
      "text/plain": [
       "'hasan-hüseyin-kemal-Ali'"
      ]
     },
     "execution_count": 190,
     "metadata": {},
     "output_type": "execute_result"
    }
   ],
   "source": [
    "ekleme(\"hasan\",\"hüseyin\",\"kemal\",\"Ali\")"
   ]
  },
  {
   "cell_type": "code",
   "execution_count": 191,
   "id": "c6875713",
   "metadata": {},
   "outputs": [],
   "source": [
    "def ekleme1(*args):\n",
    "    for item in args:\n",
    "        print(item)\n",
    "    return \" \".join(args)"
   ]
  },
  {
   "cell_type": "code",
   "execution_count": 192,
   "id": "f019735d",
   "metadata": {},
   "outputs": [
    {
     "name": "stdout",
     "output_type": "stream",
     "text": [
      "hasan\n",
      "hüseyin\n",
      "kemal\n"
     ]
    },
    {
     "data": {
      "text/plain": [
       "'hasan hüseyin kemal'"
      ]
     },
     "execution_count": 192,
     "metadata": {},
     "output_type": "execute_result"
    }
   ],
   "source": [
    "ekleme1(\"hasan\",\"hüseyin\",\"kemal\")"
   ]
  },
  {
   "cell_type": "code",
   "execution_count": 194,
   "id": "150c412f",
   "metadata": {},
   "outputs": [],
   "source": [
    "def ikinci_ad(**kwargs):\n",
    "    if \"ikinci\" in kwargs:\n",
    "        print(kwargs[\"ikinci\"])\n",
    "    else:\n",
    "        print(\"ikinci adı yok\")"
   ]
  },
  {
   "cell_type": "code",
   "execution_count": 195,
   "id": "a6e95513",
   "metadata": {},
   "outputs": [
    {
     "name": "stdout",
     "output_type": "stream",
     "text": [
      "Sali\n"
     ]
    }
   ],
   "source": [
    "ikinci_ad(adi=\"Ali\",ikinci=\"Sali\", soy=\"gel\")"
   ]
  },
  {
   "cell_type": "code",
   "execution_count": 196,
   "id": "8b032fad",
   "metadata": {},
   "outputs": [
    {
     "ename": "NameError",
     "evalue": "name 'ikici_ad' is not defined",
     "output_type": "error",
     "traceback": [
      "\u001b[1;31m---------------------------------------------------------------------------\u001b[0m",
      "\u001b[1;31mNameError\u001b[0m                                 Traceback (most recent call last)",
      "Input \u001b[1;32mIn [196]\u001b[0m, in \u001b[0;36m<cell line: 1>\u001b[1;34m()\u001b[0m\n\u001b[1;32m----> 1\u001b[0m \u001b[43mikici_ad\u001b[49m(adi\u001b[38;5;241m=\u001b[39m\u001b[38;5;124m\"\u001b[39m\u001b[38;5;124mali\u001b[39m\u001b[38;5;124m\"\u001b[39m,soy\u001b[38;5;241m=\u001b[39m\u001b[38;5;124m\"\u001b[39m\u001b[38;5;124mgel\u001b[39m\u001b[38;5;124m\"\u001b[39m)\n",
      "\u001b[1;31mNameError\u001b[0m: name 'ikici_ad' is not defined"
     ]
    }
   ],
   "source": [
    "ikici_ad(adi=\"ali\",soy=\"gel\")"
   ]
  },
  {
   "cell_type": "markdown",
   "id": "4553286c",
   "metadata": {},
   "source": [
    "# Yazıyı şifreleme"
   ]
  },
  {
   "cell_type": "code",
   "execution_count": 31,
   "id": "d6e0f940",
   "metadata": {},
   "outputs": [
    {
     "name": "stdout",
     "output_type": "stream",
     "text": [
      "th37 37 7tr3ng 2x1m6l2....w4w!!!\n"
     ]
    }
   ],
   "source": [
    "stri =\"this is string example....wow!!!\"\n",
    "intab = \"aeioups\"\n",
    "outtab = \"1234567\"\n",
    "trantab = stri.maketrans(intab,outtab)\n",
    "print(stri.translate(trantab))"
   ]
  },
  {
   "cell_type": "code",
   "execution_count": 32,
   "id": "e74002f6",
   "metadata": {},
   "outputs": [
    {
     "name": "stdout",
     "output_type": "stream",
     "text": [
      "this is string example....wow!!!\n"
     ]
    }
   ],
   "source": [
    "stri=\"th37 37 7tr3ng 2x1m6l2....w4w!!!\"\n",
    "intab = \"aeioups\"\n",
    "outtab = \"1234567\"\n",
    "trantab = stri.maketrans(outtab,intab)\n",
    "print(stri.translate(trantab))"
   ]
  },
  {
   "cell_type": "markdown",
   "id": "d5e83f2e",
   "metadata": {},
   "source": [
    "# map,filter"
   ]
  },
  {
   "cell_type": "code",
   "execution_count": 197,
   "id": "e25df698",
   "metadata": {},
   "outputs": [
    {
     "data": {
      "text/plain": [
       "[0, 2, 4, 6, 8, 10, 12, 14, 16, 18]"
      ]
     },
     "execution_count": 197,
     "metadata": {},
     "output_type": "execute_result"
    }
   ],
   "source": [
    "cift_say=[cift for cift in range(20) if cift%2==0]\n",
    "cift_say "
   ]
  },
  {
   "cell_type": "code",
   "execution_count": 198,
   "id": "ff5c2b63",
   "metadata": {},
   "outputs": [],
   "source": [
    "def kare(x):\n",
    "    return x**2 "
   ]
  },
  {
   "cell_type": "code",
   "execution_count": 199,
   "id": "b42304f9",
   "metadata": {},
   "outputs": [
    {
     "data": {
      "text/plain": [
       "9"
      ]
     },
     "execution_count": 199,
     "metadata": {},
     "output_type": "execute_result"
    }
   ],
   "source": [
    "kare(3)"
   ]
  },
  {
   "cell_type": "code",
   "execution_count": 203,
   "id": "b0bc2c27",
   "metadata": {},
   "outputs": [
    {
     "name": "stdout",
     "output_type": "stream",
     "text": [
      "[1, 2, 3, 4]\n",
      "1 1\n",
      "2 4\n",
      "3 9\n",
      "4 16\n"
     ]
    }
   ],
   "source": [
    "sayi=list(range(1,5))\n",
    "print(sayi)\n",
    "for s in range(len(sayi)):    #range(a) 0 dan başladığı için s+1 kullanıldı\n",
    "       print(s+1,kare(sayi[s]))"
   ]
  },
  {
   "cell_type": "code",
   "execution_count": 204,
   "id": "771c3e89",
   "metadata": {},
   "outputs": [
    {
     "name": "stdout",
     "output_type": "stream",
     "text": [
      "[1, 4, 9, 16]\n"
     ]
    }
   ],
   "source": [
    "lis=range(1,5)\n",
    "print(list((map(lambda x: x**2,lis))))"
   ]
  },
  {
   "cell_type": "code",
   "execution_count": 207,
   "id": "39660372",
   "metadata": {},
   "outputs": [
    {
     "data": {
      "text/plain": [
       "6"
      ]
     },
     "execution_count": 207,
     "metadata": {},
     "output_type": "execute_result"
    }
   ],
   "source": [
    "(lambda x: x + 3)(3)"
   ]
  },
  {
   "cell_type": "code",
   "execution_count": 208,
   "id": "f4b8ecd7",
   "metadata": {},
   "outputs": [
    {
     "data": {
      "text/plain": [
       "[1, 4, 25, 64, 81]"
      ]
     },
     "execution_count": 208,
     "metadata": {},
     "output_type": "execute_result"
    }
   ],
   "source": [
    "lis=[1,2,5,8,9]\n",
    "[*map(lambda x: x**2,lis)]"
   ]
  },
  {
   "cell_type": "code",
   "execution_count": 209,
   "id": "773475df",
   "metadata": {},
   "outputs": [
    {
     "name": "stdout",
     "output_type": "stream",
     "text": [
      "[1, 4, 25, 64, 81]\n"
     ]
    }
   ],
   "source": [
    "lis=[1,2,5,8,9]\n",
    "print(list(map(lambda x: x**2,lis)))"
   ]
  },
  {
   "cell_type": "code",
   "execution_count": 210,
   "id": "53650d1e",
   "metadata": {},
   "outputs": [],
   "source": [
    "def cift_sayi(x):\n",
    "    #if x%2==0:\n",
    "    #    return(x)  \n",
    "    return x if x%2==0 else None   #(Brada else mutlaka kuullanılmalı)"
   ]
  },
  {
   "cell_type": "code",
   "execution_count": 212,
   "id": "4208202f",
   "metadata": {},
   "outputs": [
    {
     "name": "stdout",
     "output_type": "stream",
     "text": [
      "0.07600021362304688\n"
     ]
    }
   ],
   "source": [
    "import time\n",
    "start = time.time()\n",
    "sayilar=range(1,500000)\n",
    "[*filter(cift_sayi,sayilar)]\n",
    "stop=time.time()\n",
    "print(stop-start)"
   ]
  },
  {
   "cell_type": "code",
   "execution_count": 214,
   "id": "5aba0eed",
   "metadata": {},
   "outputs": [
    {
     "data": {
      "text/plain": [
       "[2, 6]"
      ]
     },
     "execution_count": 214,
     "metadata": {},
     "output_type": "execute_result"
    }
   ],
   "source": [
    "sayilar=[1,2,5,6]\n",
    "#[*filter(cift_sayi,sayilar)]\n",
    "[*filter(lambda x:x if x%2==0 else None,sayilar)]   #Tek satırda broad cast, list comprehension"
   ]
  },
  {
   "cell_type": "code",
   "execution_count": 217,
   "id": "fda06d0f",
   "metadata": {},
   "outputs": [
    {
     "name": "stdout",
     "output_type": "stream",
     "text": [
      "2,   0.5   \n",
      "4,   1.0   \n",
      "10,   2.5   \n",
      "16,   4.0   \n",
      "18,   4.5   \n"
     ]
    }
   ],
   "source": [
    "def iki(x):return x*2\n",
    "def yar(x):return x/2\n",
    "lis=[1,2,5,8,9]\n",
    "f=[iki,yar]\n",
    "for i in lis:\n",
    "    #print(list(map(lambda x:x(i),fonk)))\n",
    "    #print([*map(lambda x:x(i),fonk)])\n",
    "    l=list(map(lambda x:x(i),f))    # f nin iinde bulunan liste hal. iki fonk i ye gööre hesaplar.\n",
    "    print('{},   {}   '.format(l[0],l[1]))"
   ]
  },
  {
   "cell_type": "code",
   "execution_count": null,
   "id": "9d4b1616",
   "metadata": {},
   "outputs": [],
   "source": [
    "k=[\"ali\",\"selami\",\"keratin\",\"a\",\"za\"]\n",
    "k.sort(key=len,reverse=True)     #boyuta göre sıralıyor.\n",
    "k"
   ]
  },
  {
   "cell_type": "code",
   "execution_count": null,
   "id": "08121b1f",
   "metadata": {},
   "outputs": [],
   "source": [
    "k.index(\"keratin\")"
   ]
  },
  {
   "cell_type": "code",
   "execution_count": null,
   "id": "e180e3e6",
   "metadata": {},
   "outputs": [],
   "source": [
    "l=1,2,3,4,\"ali\"    #tuples\n",
    "h=(15)    # int\n",
    "f=(15,)  #tuple\n",
    "type(h)"
   ]
  },
  {
   "cell_type": "code",
   "execution_count": null,
   "id": "fbf62509",
   "metadata": {},
   "outputs": [],
   "source": [
    "myTuple=range(10)\n",
    "m=tuple(myTuple)\n",
    "m[8]"
   ]
  },
  {
   "cell_type": "code",
   "execution_count": null,
   "id": "ab34b738",
   "metadata": {},
   "outputs": [],
   "source": [
    "i=(\"Ahmet\",\"Mehmet\",\"Ali\",\"Ayşe\")\n",
    "f=list(i)\n",
    "f[0],f[3]=f[3],f[0]"
   ]
  },
  {
   "cell_type": "code",
   "execution_count": null,
   "id": "662e2ad7",
   "metadata": {},
   "outputs": [],
   "source": [
    "mySet={1,2,3,3,3,4}"
   ]
  },
  {
   "cell_type": "code",
   "execution_count": null,
   "id": "0b74e8d1",
   "metadata": {},
   "outputs": [],
   "source": [
    "mySet"
   ]
  },
  {
   "cell_type": "code",
   "execution_count": null,
   "id": "b75aba65",
   "metadata": {},
   "outputs": [],
   "source": [
    "mySet.add(5)"
   ]
  },
  {
   "cell_type": "code",
   "execution_count": null,
   "id": "a914e850",
   "metadata": {},
   "outputs": [],
   "source": [
    "my={4,5,45,100}\n",
    "mySet.update(my)\n",
    "print(mySet)\n",
    "mySet.pop()    #ilk terimi siliyor.set te sıra önemli değildir.\n",
    "print(mySet)"
   ]
  },
  {
   "cell_type": "code",
   "execution_count": null,
   "id": "1af1a7e4",
   "metadata": {},
   "outputs": [],
   "source": [
    "my.remove(100)   #Eğer değer yoksa hata verir."
   ]
  },
  {
   "cell_type": "code",
   "execution_count": null,
   "id": "f693c39c",
   "metadata": {},
   "outputs": [],
   "source": [
    "my.discard(40)    #Eğer değer yoksa boş"
   ]
  },
  {
   "cell_type": "code",
   "execution_count": null,
   "id": "27d83c03",
   "metadata": {},
   "outputs": [],
   "source": [
    "my"
   ]
  },
  {
   "cell_type": "code",
   "execution_count": null,
   "id": "59170d6d",
   "metadata": {},
   "outputs": [],
   "source": [
    "my2={99,88,77}\n",
    "my={4,5,45,100}\n",
    "my6={1,2,3,4,500,6,7,100}\n",
    "my.union(my6,my2)      # Return the union of sets as a new set."
   ]
  },
  {
   "cell_type": "code",
   "execution_count": 218,
   "id": "97f22954",
   "metadata": {},
   "outputs": [
    {
     "data": {
      "text/plain": [
       "{1, 3, 4, 5, 6, 7, 45, 77, 88, 99, 100, 200}"
      ]
     },
     "execution_count": 218,
     "metadata": {},
     "output_type": "execute_result"
    }
   ],
   "source": [
    "my2={99,88,77}\n",
    "my={4,5,45,100}\n",
    "my6={1,200,3,4,5,6,7,100}   #sette sıralamanın önemi yoktur. sıralıyor\n",
    "my.update(my6,my2)      #Update a set with the union of itself and others.\n",
    "my"
   ]
  },
  {
   "cell_type": "code",
   "execution_count": 219,
   "id": "b3cb0a19",
   "metadata": {},
   "outputs": [
    {
     "data": {
      "text/plain": [
       "{1, 2, 3, 4, 5, 6, 7, 50, 100}"
      ]
     },
     "execution_count": 219,
     "metadata": {},
     "output_type": "execute_result"
    }
   ],
   "source": [
    "my2={99,88,77}\n",
    "my={4,5,45,100}\n",
    "my6={1,2,3,4,5,6,7,100}   #listeyi sete çevirirseniz tekrarlayan elemanlar silinir\n",
    "my6.add(50)\n",
    "my6"
   ]
  },
  {
   "cell_type": "code",
   "execution_count": 220,
   "id": "35a8743a",
   "metadata": {},
   "outputs": [
    {
     "data": {
      "text/plain": [
       "1"
      ]
     },
     "execution_count": 220,
     "metadata": {},
     "output_type": "execute_result"
    }
   ],
   "source": [
    "my6.remove(100)\n",
    "my6.pop()  #ilk terimi siler, sildiği terimi dndürür"
   ]
  },
  {
   "cell_type": "code",
   "execution_count": 221,
   "id": "5c199488-887a-4b09-ab42-1f3160ea0692",
   "metadata": {},
   "outputs": [
    {
     "data": {
      "text/plain": [
       "{2, 3, 4, 5, 6, 7, 50}"
      ]
     },
     "execution_count": 221,
     "metadata": {},
     "output_type": "execute_result"
    }
   ],
   "source": [
    "my6"
   ]
  },
  {
   "cell_type": "code",
   "execution_count": 222,
   "id": "bc943f40",
   "metadata": {},
   "outputs": [],
   "source": [
    "my2={99,88,77,\"Ali\"}\n",
    "my={4,5,45,100}\n",
    "my6={1,2,3,4,5,6,7,100}   \n"
   ]
  },
  {
   "cell_type": "code",
   "execution_count": 223,
   "id": "c5233ab6",
   "metadata": {},
   "outputs": [],
   "source": [
    "my.discard(\"veli\")"
   ]
  },
  {
   "cell_type": "code",
   "execution_count": 224,
   "id": "f641057d",
   "metadata": {},
   "outputs": [],
   "source": [
    "my.remove(5)"
   ]
  },
  {
   "cell_type": "code",
   "execution_count": 225,
   "id": "3ce641fb",
   "metadata": {},
   "outputs": [
    {
     "ename": "SyntaxError",
     "evalue": "cannot delete function call (4201482824.py, line 1)",
     "output_type": "error",
     "traceback": [
      "\u001b[1;36m  Input \u001b[1;32mIn [225]\u001b[1;36m\u001b[0m\n\u001b[1;33m    del my(5)  #5. indis olmadığından hata verir\u001b[0m\n\u001b[1;37m        ^\u001b[0m\n\u001b[1;31mSyntaxError\u001b[0m\u001b[1;31m:\u001b[0m cannot delete function call\n"
     ]
    }
   ],
   "source": [
    "del my(5)  #5. indis olmadığından hata verir"
   ]
  },
  {
   "cell_type": "code",
   "execution_count": 226,
   "id": "31825c3e",
   "metadata": {},
   "outputs": [
    {
     "ename": "AttributeError",
     "evalue": "'frozenset' object has no attribute 'add'",
     "output_type": "error",
     "traceback": [
      "\u001b[1;31m---------------------------------------------------------------------------\u001b[0m",
      "\u001b[1;31mAttributeError\u001b[0m                            Traceback (most recent call last)",
      "Input \u001b[1;32mIn [226]\u001b[0m, in \u001b[0;36m<cell line: 3>\u001b[1;34m()\u001b[0m\n\u001b[0;32m      1\u001b[0m b_my\u001b[38;5;241m=\u001b[39m\u001b[38;5;28mfrozenset\u001b[39m(my)   \u001b[38;5;66;03m#Freeze the list, and make it unchangeable:\u001b[39;00m\n\u001b[0;32m      2\u001b[0m b_my\n\u001b[1;32m----> 3\u001b[0m \u001b[43mb_my\u001b[49m\u001b[38;5;241;43m.\u001b[39;49m\u001b[43madd\u001b[49m(\u001b[38;5;241m6\u001b[39m)\n",
      "\u001b[1;31mAttributeError\u001b[0m: 'frozenset' object has no attribute 'add'"
     ]
    }
   ],
   "source": [
    "b_my=frozenset(my)   #Freeze the list, and make it unchangeable:\n",
    "b_my\n",
    "b_my.add(6)"
   ]
  },
  {
   "cell_type": "code",
   "execution_count": 227,
   "id": "e3de4a12",
   "metadata": {},
   "outputs": [
    {
     "data": {
      "text/plain": [
       "{'a': 'Ali', 'b': 'yyyyy', 'c': 'Gel', 'd': 'Hasan', 'f': 'grt'}"
      ]
     },
     "execution_count": 227,
     "metadata": {},
     "output_type": "execute_result"
    }
   ],
   "source": [
    "dicti={\n",
    "       'a':'Ali',\n",
    "       'b':1,\n",
    "       'c':'Gel'}\n",
    "dicti.update({'d':'Hasan'})\n",
    "dicti[\"f\"]=\"grt\"\n",
    "dicti[\"b\"]=\"yyyyy\"\n",
    "dicti"
   ]
  },
  {
   "cell_type": "code",
   "execution_count": 228,
   "id": "78f42214",
   "metadata": {},
   "outputs": [
    {
     "data": {
      "text/plain": [
       "'Ali'"
      ]
     },
     "execution_count": 228,
     "metadata": {},
     "output_type": "execute_result"
    }
   ],
   "source": [
    "dicti.get('a')"
   ]
  },
  {
   "cell_type": "code",
   "execution_count": 229,
   "id": "9e63b231",
   "metadata": {},
   "outputs": [
    {
     "name": "stdout",
     "output_type": "stream",
     "text": [
      "[False, False, True, False, False, True, False]\n",
      "[6, 27]\n"
     ]
    }
   ],
   "source": [
    "#Dizi elemanlarının seçiminde kllanılır.\n",
    "Liste=[1,5,6,8,25,27,80]\n",
    "print(list(map(lambda x:x%3==0,Liste)))\n",
    "print(list(filter(lambda x:x%3==0,Liste)))"
   ]
  },
  {
   "cell_type": "markdown",
   "id": "3dd31e97",
   "metadata": {},
   "source": [
    "# reduce"
   ]
  },
  {
   "cell_type": "code",
   "execution_count": 230,
   "id": "aac01131",
   "metadata": {},
   "outputs": [
    {
     "name": "stdout",
     "output_type": "stream",
     "text": [
      "20\n"
     ]
    }
   ],
   "source": [
    "#Dizi elemanlarının toplamı çarpımı gibi işlemleri yapar\n",
    "Liste=[1,5,6,8]\n",
    "from functools import reduce\n",
    "toplam=reduce(lambda x,y : x+y, Liste)\n",
    "print(toplam)"
   ]
  },
  {
   "cell_type": "code",
   "execution_count": 235,
   "id": "56a832f0-2d8d-45a3-98de-aba2b4f12ea0",
   "metadata": {},
   "outputs": [
    {
     "data": {
      "text/plain": [
       "['__add__',\n",
       " '__class__',\n",
       " '__contains__',\n",
       " '__delattr__',\n",
       " '__dir__',\n",
       " '__doc__',\n",
       " '__eq__',\n",
       " '__format__',\n",
       " '__ge__',\n",
       " '__getattribute__',\n",
       " '__getitem__',\n",
       " '__getnewargs__',\n",
       " '__gt__',\n",
       " '__hash__',\n",
       " '__init__',\n",
       " '__init_subclass__',\n",
       " '__iter__',\n",
       " '__le__',\n",
       " '__len__',\n",
       " '__lt__',\n",
       " '__mod__',\n",
       " '__mul__',\n",
       " '__ne__',\n",
       " '__new__',\n",
       " '__reduce__',\n",
       " '__reduce_ex__',\n",
       " '__repr__',\n",
       " '__rmod__',\n",
       " '__rmul__',\n",
       " '__setattr__',\n",
       " '__sizeof__',\n",
       " '__str__',\n",
       " '__subclasshook__',\n",
       " 'capitalize',\n",
       " 'casefold',\n",
       " 'center',\n",
       " 'count',\n",
       " 'encode',\n",
       " 'endswith',\n",
       " 'expandtabs',\n",
       " 'find',\n",
       " 'format',\n",
       " 'format_map',\n",
       " 'index',\n",
       " 'isalnum',\n",
       " 'isalpha',\n",
       " 'isascii',\n",
       " 'isdecimal',\n",
       " 'isdigit',\n",
       " 'isidentifier',\n",
       " 'islower',\n",
       " 'isnumeric',\n",
       " 'isprintable',\n",
       " 'isspace',\n",
       " 'istitle',\n",
       " 'isupper',\n",
       " 'join',\n",
       " 'ljust',\n",
       " 'lower',\n",
       " 'lstrip',\n",
       " 'maketrans',\n",
       " 'partition',\n",
       " 'removeprefix',\n",
       " 'removesuffix',\n",
       " 'replace',\n",
       " 'rfind',\n",
       " 'rindex',\n",
       " 'rjust',\n",
       " 'rpartition',\n",
       " 'rsplit',\n",
       " 'rstrip',\n",
       " 'split',\n",
       " 'splitlines',\n",
       " 'startswith',\n",
       " 'strip',\n",
       " 'swapcase',\n",
       " 'title',\n",
       " 'translate',\n",
       " 'upper',\n",
       " 'zfill']"
      ]
     },
     "execution_count": 235,
     "metadata": {},
     "output_type": "execute_result"
    }
   ],
   "source": [
    "dir(\"functools\")"
   ]
  },
  {
   "cell_type": "markdown",
   "id": "247d3a04",
   "metadata": {},
   "source": [
    "# Random"
   ]
  },
  {
   "cell_type": "code",
   "execution_count": 236,
   "id": "22ad4bba",
   "metadata": {},
   "outputs": [],
   "source": [
    "import random"
   ]
  },
  {
   "cell_type": "code",
   "execution_count": 237,
   "id": "8fdb1271",
   "metadata": {},
   "outputs": [
    {
     "data": {
      "text/plain": [
       "0.649213211008069"
      ]
     },
     "execution_count": 237,
     "metadata": {},
     "output_type": "execute_result"
    }
   ],
   "source": [
    "random.random()"
   ]
  },
  {
   "cell_type": "code",
   "execution_count": 238,
   "id": "00952d6e",
   "metadata": {},
   "outputs": [
    {
     "data": {
      "text/plain": [
       "4.220428133994348"
      ]
     },
     "execution_count": 238,
     "metadata": {},
     "output_type": "execute_result"
    }
   ],
   "source": [
    "random.uniform(4,10)"
   ]
  },
  {
   "cell_type": "code",
   "execution_count": 239,
   "id": "2140eab4",
   "metadata": {},
   "outputs": [
    {
     "data": {
      "text/plain": [
       "10"
      ]
     },
     "execution_count": 239,
     "metadata": {},
     "output_type": "execute_result"
    }
   ],
   "source": [
    "random.randint(2,10)"
   ]
  },
  {
   "cell_type": "code",
   "execution_count": 242,
   "id": "a94ad2dd",
   "metadata": {},
   "outputs": [
    {
     "data": {
      "text/plain": [
       "4"
      ]
     },
     "execution_count": 242,
     "metadata": {},
     "output_type": "execute_result"
    }
   ],
   "source": [
    "\n",
    "random.choice(range(1,10))"
   ]
  },
  {
   "cell_type": "code",
   "execution_count": 243,
   "id": "5ad71d92",
   "metadata": {},
   "outputs": [
    {
     "data": {
      "text/plain": [
       "[6, 3, 9, 7, 5]"
      ]
     },
     "execution_count": 243,
     "metadata": {},
     "output_type": "execute_result"
    }
   ],
   "source": [
    "random.sample(range(1,10),k=5)  # rastgele 5 tane eleman seçildi k yazılmayabilir"
   ]
  },
  {
   "cell_type": "code",
   "execution_count": null,
   "id": "1027a2ed",
   "metadata": {},
   "outputs": [],
   "source": []
  },
  {
   "cell_type": "code",
   "execution_count": 244,
   "id": "a9a071db",
   "metadata": {},
   "outputs": [
    {
     "name": "stdout",
     "output_type": "stream",
     "text": [
      "[1, 2, 3, 4, 5, 6, 7, 8, 9]\n",
      "[5, 4, 1, 2, 3, 6, 8, 9, 7]\n"
     ]
    }
   ],
   "source": [
    "liste=[*range(1,10)]\n",
    "print(liste)\n",
    "random.shuffle(liste)   # Geriye None döndürür. \n",
    "print(liste)"
   ]
  },
  {
   "cell_type": "markdown",
   "id": "c5a18f90",
   "metadata": {},
   "source": [
    "# Math"
   ]
  },
  {
   "cell_type": "code",
   "execution_count": 245,
   "id": "daff6e30",
   "metadata": {},
   "outputs": [],
   "source": [
    "import math"
   ]
  },
  {
   "cell_type": "code",
   "execution_count": 246,
   "id": "50a171db",
   "metadata": {},
   "outputs": [
    {
     "data": {
      "text/plain": [
       "3"
      ]
     },
     "execution_count": 246,
     "metadata": {},
     "output_type": "execute_result"
    }
   ],
   "source": [
    "math.ceil(2.1) #tavan"
   ]
  },
  {
   "cell_type": "code",
   "execution_count": 247,
   "id": "52c632e5",
   "metadata": {},
   "outputs": [
    {
     "data": {
      "text/plain": [
       "2"
      ]
     },
     "execution_count": 247,
     "metadata": {},
     "output_type": "execute_result"
    }
   ],
   "source": [
    "math.floor(2.9)  #taban"
   ]
  },
  {
   "cell_type": "code",
   "execution_count": 248,
   "id": "c62f5e46",
   "metadata": {},
   "outputs": [
    {
     "data": {
      "text/plain": [
       "2"
      ]
     },
     "execution_count": 248,
     "metadata": {},
     "output_type": "execute_result"
    }
   ],
   "source": [
    "round(2.5000)"
   ]
  },
  {
   "cell_type": "code",
   "execution_count": 249,
   "id": "19a66618",
   "metadata": {},
   "outputs": [
    {
     "data": {
      "text/plain": [
       "93326215443944152681699238856266700490715968264381621468592963895217599993229915608941463976156518286253697920827223758251185210916864000000000000000000000000"
      ]
     },
     "execution_count": 249,
     "metadata": {},
     "output_type": "execute_result"
    }
   ],
   "source": [
    "math.factorial(100)"
   ]
  },
  {
   "cell_type": "code",
   "execution_count": 250,
   "id": "d98f38b6",
   "metadata": {},
   "outputs": [
    {
     "data": {
      "text/plain": [
       "1.0000000057171976"
      ]
     },
     "execution_count": 250,
     "metadata": {},
     "output_type": "execute_result"
    }
   ],
   "source": [
    "math.log(2.718281844)"
   ]
  },
  {
   "cell_type": "code",
   "execution_count": 7,
   "id": "a18b40ab",
   "metadata": {},
   "outputs": [
    {
     "data": {
      "text/plain": [
       "2.0"
      ]
     },
     "execution_count": 7,
     "metadata": {},
     "output_type": "execute_result"
    }
   ],
   "source": [
    "math.log10(100)"
   ]
  },
  {
   "cell_type": "code",
   "execution_count": 257,
   "id": "07309a44",
   "metadata": {},
   "outputs": [
    {
     "data": {
      "text/plain": [
       "False"
      ]
     },
     "execution_count": 257,
     "metadata": {},
     "output_type": "execute_result"
    }
   ],
   "source": [
    "math.isfinite(+100e350)"
   ]
  },
  {
   "cell_type": "code",
   "execution_count": 258,
   "id": "5f8bcb30",
   "metadata": {},
   "outputs": [
    {
     "data": {
      "text/plain": [
       "9.0"
      ]
     },
     "execution_count": 258,
     "metadata": {},
     "output_type": "execute_result"
    }
   ],
   "source": [
    "math.pow(3,2)"
   ]
  },
  {
   "cell_type": "code",
   "execution_count": 259,
   "id": "d1a34924",
   "metadata": {},
   "outputs": [
    {
     "data": {
      "text/plain": [
       "3.141592653589793"
      ]
     },
     "execution_count": 259,
     "metadata": {},
     "output_type": "execute_result"
    }
   ],
   "source": [
    "math.pi"
   ]
  },
  {
   "cell_type": "code",
   "execution_count": 260,
   "id": "7d5a7dc8",
   "metadata": {},
   "outputs": [
    {
     "data": {
      "text/plain": [
       "[4, 3, 7, 3]"
      ]
     },
     "execution_count": 260,
     "metadata": {},
     "output_type": "execute_result"
    }
   ],
   "source": [
    "list=range(1,8)\n",
    "random.choices(list,k=4)"
   ]
  },
  {
   "cell_type": "code",
   "execution_count": 261,
   "id": "7ec75b36",
   "metadata": {},
   "outputs": [],
   "source": [
    "list1=random.sample(range(1,10),6)\n",
    "list2=random.sample(range(1,10),6)\n",
    "list3=random.sample(range(1,10),6)\n",
    "list4=random.sample(range(1,10),6)\n"
   ]
  },
  {
   "cell_type": "code",
   "execution_count": 262,
   "id": "6d87ebb8",
   "metadata": {},
   "outputs": [
    {
     "name": "stdout",
     "output_type": "stream",
     "text": [
      "[[9, 7, 4, 1, 5, 2], [7, 8, 9, 3, 2, 6], [8, 9, 6, 5, 4, 7], [2, 1, 6, 5, 7, 9]]\n",
      "[9, 7, 4, 1, 5, 2, 7, 8, 9, 3, 2, 6, 8, 9, 6, 5, 4, 7, 2, 1, 6, 5, 7, 9]\n"
     ]
    }
   ],
   "source": [
    "List_listesi=[list1,list2,list3,list4]\n",
    "List_toplam=list1+list2+list3+list4\n",
    "print(List_listesi)\n",
    "print(List_toplam)"
   ]
  },
  {
   "cell_type": "code",
   "execution_count": 267,
   "id": "7f51ce26",
   "metadata": {},
   "outputs": [
    {
     "name": "stdout",
     "output_type": "stream",
     "text": [
      "1. liste \t [9, 7, 4, 1, 5, 2] \n",
      "2. liste \t [7, 8, 9, 3, 2, 6] \n",
      "3. liste \t [8, 9, 6, 5, 4, 7] \n",
      "4. liste \t [2, 1, 6, 5, 7, 9] \n"
     ]
    },
    {
     "data": {
      "text/plain": [
       "Counter({9: 4, 7: 4, 4: 2, 1: 2, 5: 3, 2: 3, 8: 2, 3: 1, 6: 3})"
      ]
     },
     "execution_count": 267,
     "metadata": {},
     "output_type": "execute_result"
    }
   ],
   "source": [
    "from collections import Counter\n",
    "for index,liste in enumerate(List_listesi):\n",
    "    print(\"{}. liste \\t {} \".format(index+1,liste))\n",
    "Counter(List_toplam)"
   ]
  },
  {
   "cell_type": "code",
   "execution_count": 268,
   "id": "ab4f4f4d",
   "metadata": {},
   "outputs": [
    {
     "data": {
      "text/plain": [
       "Counter({'a': 1, 's': 2, 'd': 1, ' ': 2, 'f': 5, 'j': 1, 'r': 2, 'n': 1})"
      ]
     },
     "execution_count": 268,
     "metadata": {},
     "output_type": "execute_result"
    }
   ],
   "source": [
    "from collections import Counter\n",
    "Counter(\"assd ffffjrrfn \")"
   ]
  },
  {
   "cell_type": "code",
   "execution_count": 269,
   "id": "885039bb",
   "metadata": {},
   "outputs": [
    {
     "name": "stdout",
     "output_type": "stream",
     "text": [
      "Bir gün, bir gün, bir çocuk\n",
      "Eve de gelmiş kimse yok\n",
      "Açmış bakmış dolabı,\n",
      "Şeker de sanmış ilacı.\n",
      "Yemiş yemiş bitirmiş,\n",
      "Akşama sancı başlamış.\n",
      "Kıvrım kıvrım kıvranmış,\n",
      "Yaptığından utanmış\n",
      "Kıvrım kıvrım kıvranmış,\n",
      "Hastaneyi boylamış\n"
     ]
    }
   ],
   "source": [
    "sarki=\"\"\"Bir gün, bir gün, bir çocuk\n",
    "Eve de gelmiş kimse yok\n",
    "Açmış bakmış dolabı,\n",
    "Şeker de sanmış ilacı.\n",
    "Yemiş yemiş bitirmiş,\n",
    "Akşama sancı başlamış.\n",
    "Kıvrım kıvrım kıvranmış,\n",
    "Yaptığından utanmış\n",
    "Kıvrım kıvrım kıvranmış,\n",
    "Hastaneyi boylamış\"\"\"\n",
    "#satır sonuna \\n yazılınca birden fazla satır yazılabilir.\n",
    "print(sarki)"
   ]
  },
  {
   "cell_type": "code",
   "execution_count": 270,
   "id": "b0be5bcf",
   "metadata": {},
   "outputs": [
    {
     "data": {
      "text/plain": [
       "Counter({'B': 1,\n",
       "         'i': 12,\n",
       "         'r': 11,\n",
       "         ' ': 24,\n",
       "         'g': 3,\n",
       "         'ü': 2,\n",
       "         'n': 10,\n",
       "         ',': 6,\n",
       "         'b': 7,\n",
       "         'ç': 2,\n",
       "         'o': 4,\n",
       "         'c': 3,\n",
       "         'u': 2,\n",
       "         'k': 10,\n",
       "         '\\n': 9,\n",
       "         'E': 1,\n",
       "         'v': 7,\n",
       "         'e': 10,\n",
       "         'd': 4,\n",
       "         'l': 5,\n",
       "         'm': 18,\n",
       "         'ş': 14,\n",
       "         's': 4,\n",
       "         'y': 4,\n",
       "         'A': 2,\n",
       "         'ı': 23,\n",
       "         'a': 17,\n",
       "         'Ş': 1,\n",
       "         '.': 2,\n",
       "         'Y': 2,\n",
       "         't': 4,\n",
       "         'K': 2,\n",
       "         'p': 1,\n",
       "         'ğ': 1,\n",
       "         'H': 1})"
      ]
     },
     "execution_count": 270,
     "metadata": {},
     "output_type": "execute_result"
    }
   ],
   "source": [
    "Counter(sarki)"
   ]
  },
  {
   "cell_type": "code",
   "execution_count": 271,
   "id": "40c17e87",
   "metadata": {},
   "outputs": [
    {
     "data": {
      "text/plain": [
       "Counter({'bir': 3,\n",
       "         'gün,': 2,\n",
       "         'çocuk': 1,\n",
       "         'eve': 1,\n",
       "         'de': 2,\n",
       "         'gelmiş': 1,\n",
       "         'kimse': 1,\n",
       "         'yok': 1,\n",
       "         'açmış': 1,\n",
       "         'bakmış': 1,\n",
       "         'dolabı,': 1,\n",
       "         'şeker': 1,\n",
       "         'sanmış': 1,\n",
       "         'ilacı.': 1,\n",
       "         'yemiş': 2,\n",
       "         'bitirmiş,': 1,\n",
       "         'akşama': 1,\n",
       "         'sancı': 1,\n",
       "         'başlamış.': 1,\n",
       "         'kıvrım': 4,\n",
       "         'kıvranmış,': 2,\n",
       "         'yaptığından': 1,\n",
       "         'utanmış': 1,\n",
       "         'hastaneyi': 1,\n",
       "         'boylamış': 1})"
      ]
     },
     "execution_count": 271,
     "metadata": {},
     "output_type": "execute_result"
    }
   ],
   "source": [
    "Counter(sarki.lower().split())"
   ]
  },
  {
   "cell_type": "code",
   "execution_count": 272,
   "id": "5a7c0d3f",
   "metadata": {},
   "outputs": [
    {
     "data": {
      "text/plain": [
       "[('kıvrım', 4),\n",
       " ('bir', 3),\n",
       " ('gün,', 2),\n",
       " ('de', 2),\n",
       " ('yemiş', 2),\n",
       " ('kıvranmış,', 2),\n",
       " ('çocuk', 1),\n",
       " ('eve', 1),\n",
       " ('gelmiş', 1),\n",
       " ('kimse', 1),\n",
       " ('yok', 1),\n",
       " ('açmış', 1),\n",
       " ('bakmış', 1),\n",
       " ('dolabı,', 1),\n",
       " ('şeker', 1),\n",
       " ('sanmış', 1),\n",
       " ('ilacı.', 1),\n",
       " ('bitirmiş,', 1),\n",
       " ('akşama', 1),\n",
       " ('sancı', 1),\n",
       " ('başlamış.', 1),\n",
       " ('yaptığından', 1),\n",
       " ('utanmış', 1),\n",
       " ('hastaneyi', 1),\n",
       " ('boylamış', 1)]"
      ]
     },
     "execution_count": 272,
     "metadata": {},
     "output_type": "execute_result"
    }
   ],
   "source": [
    "Counter(sarki.lower().split()).most_common() #çoktan aza doğru bütününü sıralama"
   ]
  },
  {
   "cell_type": "code",
   "execution_count": 273,
   "id": "f1bd8ed6",
   "metadata": {},
   "outputs": [
    {
     "data": {
      "text/plain": [
       "[('kıvrım', 4), ('bir', 3)]"
      ]
     },
     "execution_count": 273,
     "metadata": {},
     "output_type": "execute_result"
    }
   ],
   "source": [
    "Counter(sarki.lower().split()).most_common(2) #En fazla tekrar edenlerin ilk ikisi"
   ]
  },
  {
   "cell_type": "markdown",
   "id": "b903181a",
   "metadata": {},
   "source": [
    "# Time, Datetime"
   ]
  },
  {
   "cell_type": "code",
   "execution_count": 275,
   "id": "6f29c3a9",
   "metadata": {},
   "outputs": [],
   "source": [
    "import datetime    #eğer from datetime import date yazılırsa datetime.date yerine date yazılır.\n",
    "from datetime import date"
   ]
  },
  {
   "cell_type": "code",
   "execution_count": 276,
   "id": "236a4929",
   "metadata": {},
   "outputs": [
    {
     "data": {
      "text/plain": [
       "datetime.date(2022, 10, 8)"
      ]
     },
     "execution_count": 276,
     "metadata": {},
     "output_type": "execute_result"
    }
   ],
   "source": [
    "bugun=date.today()\n",
    "bugun"
   ]
  },
  {
   "cell_type": "code",
   "execution_count": 278,
   "id": "732ccb5f",
   "metadata": {},
   "outputs": [
    {
     "data": {
      "text/plain": [
       "datetime.date(2022, 10, 10)"
      ]
     },
     "execution_count": 278,
     "metadata": {},
     "output_type": "execute_result"
    }
   ],
   "source": [
    "dn=date(2022,10,10)\n",
    "dn"
   ]
  },
  {
   "cell_type": "code",
   "execution_count": 280,
   "id": "d189d318",
   "metadata": {},
   "outputs": [
    {
     "name": "stdout",
     "output_type": "stream",
     "text": [
      "-2 days, 0:00:00\n"
     ]
    }
   ],
   "source": [
    "fark=bugun-dn\n",
    "print(fark)"
   ]
  },
  {
   "cell_type": "code",
   "execution_count": 281,
   "id": "cef43d7d",
   "metadata": {},
   "outputs": [
    {
     "data": {
      "text/plain": [
       "-2"
      ]
     },
     "execution_count": 281,
     "metadata": {},
     "output_type": "execute_result"
    }
   ],
   "source": [
    "fark.days"
   ]
  },
  {
   "cell_type": "code",
   "execution_count": 282,
   "id": "9e9359a3",
   "metadata": {},
   "outputs": [
    {
     "data": {
      "text/plain": [
       "2022"
      ]
     },
     "execution_count": 282,
     "metadata": {},
     "output_type": "execute_result"
    }
   ],
   "source": [
    "bugun.year"
   ]
  },
  {
   "cell_type": "code",
   "execution_count": 283,
   "id": "01e760cc",
   "metadata": {},
   "outputs": [
    {
     "data": {
      "text/plain": [
       "10"
      ]
     },
     "execution_count": 283,
     "metadata": {},
     "output_type": "execute_result"
    }
   ],
   "source": [
    "bugun.month"
   ]
  },
  {
   "cell_type": "code",
   "execution_count": 284,
   "id": "a1c621f6",
   "metadata": {},
   "outputs": [
    {
     "data": {
      "text/plain": [
       "8"
      ]
     },
     "execution_count": 284,
     "metadata": {},
     "output_type": "execute_result"
    }
   ],
   "source": [
    "bugun.day"
   ]
  },
  {
   "cell_type": "code",
   "execution_count": 285,
   "id": "c800165d",
   "metadata": {},
   "outputs": [
    {
     "data": {
      "text/plain": [
       "datetime.IsoCalendarDate(year=2022, week=40, weekday=6)"
      ]
     },
     "execution_count": 285,
     "metadata": {},
     "output_type": "execute_result"
    }
   ],
   "source": [
    "date.isocalendar(bugun)"
   ]
  },
  {
   "cell_type": "code",
   "execution_count": 286,
   "id": "579ff4f6",
   "metadata": {},
   "outputs": [
    {
     "data": {
      "text/plain": [
       "5"
      ]
     },
     "execution_count": 286,
     "metadata": {},
     "output_type": "execute_result"
    }
   ],
   "source": [
    "date.weekday(bugun) #  0 pazartesi, 1 salı...6 pazar"
   ]
  },
  {
   "cell_type": "code",
   "execution_count": 287,
   "id": "7be60327",
   "metadata": {},
   "outputs": [
    {
     "data": {
      "text/plain": [
       "'Sat Oct  8 00:00:00 2022'"
      ]
     },
     "execution_count": 287,
     "metadata": {},
     "output_type": "execute_result"
    }
   ],
   "source": [
    "date.ctime(bugun)"
   ]
  },
  {
   "cell_type": "code",
   "execution_count": 288,
   "id": "27d23eb9",
   "metadata": {},
   "outputs": [],
   "source": [
    "from datetime import time"
   ]
  },
  {
   "cell_type": "code",
   "execution_count": 289,
   "id": "b344248a",
   "metadata": {},
   "outputs": [
    {
     "name": "stdout",
     "output_type": "stream",
     "text": [
      "23:40:10\n"
     ]
    }
   ],
   "source": [
    "zaman=time(23,40,10)\n",
    "print(zaman)"
   ]
  },
  {
   "cell_type": "code",
   "execution_count": 290,
   "id": "f0964242",
   "metadata": {},
   "outputs": [
    {
     "data": {
      "text/plain": [
       "10"
      ]
     },
     "execution_count": 290,
     "metadata": {},
     "output_type": "execute_result"
    }
   ],
   "source": [
    "zaman.second    #hour,minute"
   ]
  },
  {
   "cell_type": "code",
   "execution_count": 291,
   "id": "1a902f3e",
   "metadata": {},
   "outputs": [
    {
     "name": "stdout",
     "output_type": "stream",
     "text": [
      "2021-12-10 23:15:00\n"
     ]
    }
   ],
   "source": [
    "a=datetime.datetime(2021,12,10,23,15,0)\n",
    "print(a)"
   ]
  },
  {
   "cell_type": "code",
   "execution_count": 292,
   "id": "efe58813",
   "metadata": {},
   "outputs": [
    {
     "data": {
      "text/plain": [
       "10"
      ]
     },
     "execution_count": 292,
     "metadata": {},
     "output_type": "execute_result"
    }
   ],
   "source": [
    "a.day"
   ]
  },
  {
   "cell_type": "code",
   "execution_count": 293,
   "id": "587ca41c",
   "metadata": {},
   "outputs": [
    {
     "name": "stdout",
     "output_type": "stream",
     "text": [
      "10.006916284561157\n"
     ]
    }
   ],
   "source": [
    "import time   \n",
    "a=time.time()\n",
    "time.sleep(10)    #Komutlar çalıştırınıca sleep komutuna gelince verilem süre kadar beklenir\n",
    "b=time.time()\n",
    "print(b-a)"
   ]
  },
  {
   "cell_type": "code",
   "execution_count": null,
   "id": "a7240e81-e02d-425a-96f3-6383d76bd137",
   "metadata": {},
   "outputs": [],
   "source": []
  },
  {
   "cell_type": "code",
   "execution_count": null,
   "id": "7536e56a-c93d-44fb-8fa3-9691b9785492",
   "metadata": {},
   "outputs": [],
   "source": []
  }
 ],
 "metadata": {
  "kernelspec": {
   "display_name": "Python 3 (ipykernel)",
   "language": "python",
   "name": "python3"
  },
  "language_info": {
   "codemirror_mode": {
    "name": "ipython",
    "version": 3
   },
   "file_extension": ".py",
   "mimetype": "text/x-python",
   "name": "python",
   "nbconvert_exporter": "python",
   "pygments_lexer": "ipython3",
   "version": "3.9.12"
  },
  "widgets": {
   "application/vnd.jupyter.widget-state+json": {
    "state": {},
    "version_major": 2,
    "version_minor": 0
   }
  }
 },
 "nbformat": 4,
 "nbformat_minor": 5
}
