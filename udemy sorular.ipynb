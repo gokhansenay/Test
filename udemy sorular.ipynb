{
 "cells": [
  {
   "cell_type": "markdown",
   "metadata": {},
   "source": []
  },
  {
   "cell_type": "markdown",
   "metadata": {},
   "source": [
    "#### Soru-2) sarı ve mehmet diye iki adet str input alacak, \"samehmetrı\" diye yazdıracak"
   ]
  },
  {
   "cell_type": "code",
   "execution_count": 1,
   "metadata": {},
   "outputs": [
    {
     "name": "stdout",
     "output_type": "stream",
     "text": [
      "goksenayhan\n"
     ]
    }
   ],
   "source": [
    "#Yontem-1 :\n",
    "\n",
    "str1=input(\"Birinci stringi giriniz :\")\n",
    "str2=input(\"İkinci stringi giriniz :\")\n",
    "\n",
    "boyut=len(str1)//2 # yada boyut=int(len(str1)/2)\n",
    "\n",
    "on,arka=str1[:boyut],str1[boyut:]\n",
    "cıktı=on+str2+arka\n",
    "\n",
    "print(cıktı)\n",
    "#print(boyut)"
   ]
  },
  {
   "cell_type": "code",
   "execution_count": 23,
   "metadata": {},
   "outputs": [
    {
     "name": "stdout",
     "output_type": "stream",
     "text": [
      "samehmetrı\n"
     ]
    },
    {
     "data": {
      "text/plain": [
       "('sa', 'rı')"
      ]
     },
     "execution_count": 23,
     "metadata": {},
     "output_type": "execute_result"
    }
   ],
   "source": [
    "#Yontem-2 :\n",
    "\n",
    "str1=input(\"Birinci stringi giriniz :\")\n",
    "str2=input(\"İkinci stringi giriniz :\")\n",
    "\n",
    "boyut=len(str1)//2\n",
    "ek=str1[:boyut],str1[boyut:]\n",
    "\n",
    "cıktı=str2.join(ek)\n",
    "#cıktı=('sa', 'rı')\n",
    "print(cıktı)\n",
    "ek"
   ]
  },
  {
   "cell_type": "code",
   "execution_count": 58,
   "metadata": {},
   "outputs": [],
   "source": [
    "#Yontem-3 : fonksiyon olarak yapalım\n",
    "\n",
    "def birlestir(str1,str2):\n",
    "    sonuc=str1[:len(str1)//2]+str2+str1[len(str1)//2:]\n",
    "    return sonuc"
   ]
  },
  {
   "cell_type": "code",
   "execution_count": 61,
   "metadata": {},
   "outputs": [
    {
     "data": {
      "text/plain": [
       "'gökşenayhan'"
      ]
     },
     "execution_count": 61,
     "metadata": {},
     "output_type": "execute_result"
    }
   ],
   "source": [
    "birlestir(\"gökhan\",\"şenay\")"
   ]
  },
  {
   "cell_type": "code",
   "execution_count": 60,
   "metadata": {},
   "outputs": [
    {
     "data": {
      "text/plain": [
       "'samehmetrı'"
      ]
     },
     "execution_count": 60,
     "metadata": {},
     "output_type": "execute_result"
    }
   ],
   "source": [
    "#Yontem-4 :\n",
    "\n",
    "def birlestir2(str1,str2):\n",
    "    return (lambda str1,str2: str1[:len(str1)//2]+str2+str1[len(str1)//2:])(str1,str2)\n",
    "\n",
    "birlestir2(\"sarı\",\"mehmet\")"
   ]
  },
  {
   "cell_type": "code",
   "execution_count": 59,
   "metadata": {},
   "outputs": [
    {
     "data": {
      "text/plain": [
       "'SaMehmetrı'"
      ]
     },
     "execution_count": 59,
     "metadata": {},
     "output_type": "execute_result"
    }
   ],
   "source": [
    "#Yontem-5 :\n",
    "\n",
    "str1=\"Sarı\"\n",
    "str2=\"Mehmet\"\n",
    "sonuc=str1[:len(str1)//2]+str2+str1[len(str1)//2:]\n",
    "sonuc"
   ]
  },
  {
   "cell_type": "markdown",
   "metadata": {},
   "source": [
    "#### Soru-3) Kullanıcıdan aldığınız bir kelimenin ilk 3 ve son 3 karakterinden oluşan bir kelime elde edin.\n",
    "Girilen kelime 3 ten az ise \"Empty String\" döndürün"
   ]
  },
  {
   "cell_type": "code",
   "execution_count": 3,
   "metadata": {},
   "outputs": [
    {
     "name": "stdout",
     "output_type": "stream",
     "text": [
      "bernay\n"
     ]
    }
   ],
   "source": [
    "#Yontem-1 :\n",
    "\n",
    "str1=input(\"Kelimeyi giriniz :\")\n",
    "\n",
    "if len(str1) >=3:\n",
    "    sonuc=str1[:3]+str1[len(str1)-3:]\n",
    "    print(sonuc)\n",
    "\n",
    "else:\n",
    "    print(\"Empty String\")"
   ]
  },
  {
   "cell_type": "code",
   "execution_count": 72,
   "metadata": {},
   "outputs": [
    {
     "name": "stdout",
     "output_type": "stream",
     "text": [
      "goknay\n"
     ]
    }
   ],
   "source": [
    "#Yontem-2 :\n",
    "\n",
    "str1=input(\"Kelimeyi giriniz :\")\n",
    "\n",
    "if len(str1) >=3:\n",
    "    print(str1[:3]+str1[-3:])\n",
    "else:\n",
    "    print(\"Empty String\")"
   ]
  },
  {
   "cell_type": "markdown",
   "metadata": {},
   "source": [
    "#### Soru-4) Verilen bir kelimenin bir cümlede kaç defa geçtiğini bulan program"
   ]
  },
  {
   "cell_type": "code",
   "execution_count": 4,
   "metadata": {},
   "outputs": [
    {
     "name": "stdout",
     "output_type": "stream",
     "text": [
      "3\n"
     ]
    }
   ],
   "source": [
    "aranan=\"Berra\"\n",
    "cumle=\"Berra babası ile birlikte okula gitti ve Berra kendi başına okuldan geldi. Berra kuşları çok sever\"\n",
    "\n",
    "print(cumle.count(aranan))"
   ]
  },
  {
   "cell_type": "code",
   "execution_count": 85,
   "metadata": {},
   "outputs": [
    {
     "name": "stdout",
     "output_type": "stream",
     "text": [
      "1\n"
     ]
    }
   ],
   "source": [
    "\n",
    "cumle=\"berra babası ile birlikte okula gitti ve berra kendi başına okuldan geldi. Berra kuşları çok sever\"\n",
    "\n",
    "print(cumle.count(\"Berra\"))"
   ]
  },
  {
   "cell_type": "code",
   "execution_count": 93,
   "metadata": {},
   "outputs": [
    {
     "name": "stdout",
     "output_type": "stream",
     "text": [
      "3\n"
     ]
    }
   ],
   "source": [
    "aranan=\"Berra\"\n",
    "cumle=\"berra babası ile birlikte okula gitti ve berra kendi başına okuldan geldi. Berra kuşları çok sever\"\n",
    "\n",
    "aranan2=aranan.lower()\n",
    "cumle2=cumle.lower()\n",
    "print(cumle2.count(aranan2))"
   ]
  },
  {
   "cell_type": "code",
   "execution_count": 104,
   "metadata": {},
   "outputs": [
    {
     "name": "stdout",
     "output_type": "stream",
     "text": [
      "3\n",
      "Berra kelimesi cümlede 3 kez gecmektedir\n",
      "Berra kelimesi cümlede 3 kez gecmektedir\n"
     ]
    }
   ],
   "source": [
    "aranan=\"Berra\"\n",
    "cumle=\"berra babası ile birlikte okula gitti ve berra kendi başına okuldan geldi. Berra kuşları çok sever\"\n",
    "\n",
    "print(cumle.lower().count(aranan.lower())) #burada sayı gözükür\n",
    "sayi=cumle.lower().count(aranan.lower())\n",
    "\n",
    "print(f\"{aranan} kelimesi cümlede {sayi} kez gecmektedir\")\n",
    "\n",
    "print(\"{} kelimesi cümlede {} kez gecmektedir\".format(aranan,sayi))\n"
   ]
  },
  {
   "cell_type": "markdown",
   "metadata": {},
   "source": [
    "#### Soru-5) Verilen bilgileri (Adı Soyadı, Yaşı, Mesleği) alt alta sıralayan program"
   ]
  },
  {
   "cell_type": "code",
   "execution_count": 217,
   "metadata": {},
   "outputs": [
    {
     "name": "stdout",
     "output_type": "stream",
     "text": [
      "Adı Soyadı\t:Gökhan Şenay\n",
      "Yaşı\t\t:43\n",
      "Mesleği\t\t:Muhendis\n",
      "******************************\n",
      "Adı Soyadı\t:Gökhan Şenay\n",
      "Yaşı\t\t:43\n",
      "Mesleği\t\t:Muhendis\n",
      "******************************\n",
      "Gökhan Şenay 43 Muhendis\n",
      "Gökhan Şenay43Muhendis\n",
      "Gökhan Şenay\tBerra\t43\tMuhendis\n",
      "Gökhan Şenay\t\tBerra\t\t43\t\tMuhendis\n",
      "Gokhan 'senay'\n",
      "Gokhan 'senay'\n",
      "Gokhan \"senay\"\n"
     ]
    }
   ],
   "source": [
    "# Yontem-1:\n",
    "\n",
    "adsoy=\"Gökhan Şenay\"\n",
    "yas=43\n",
    "mesl=\"Muhendis\"\n",
    "\n",
    "print(f\"Adı Soyadı\\t:{adsoy}\\nYaşı\\t\\t:{yas}\\nMesleği\\t\\t:{mesl}\")\n",
    "print(\"*\"*30)\n",
    "print(\"Adı Soyadı\\t:{}\\nYaşı\\t\\t:{}\\nMesleği\\t\\t:{}\".format(adsoy,yas,mesl))\n",
    "print(\"*\"*30)\n",
    "print(adsoy,yas,mesl)\n",
    "print(adsoy,yas,mesl,sep=\"\")\n",
    "print(adsoy,\"Berra\",yas,mesl,sep=\"\\t\")\n",
    "print(adsoy,\"Berra\",yas,mesl,sep=\"\\t\"*2)\n",
    "print(\"Gokhan 'senay'\") # burada escape \"\\\"\" olmayabilir, olursa da olur\n",
    "print(\"Gokhan \\\"senay\\\"\")\n"
   ]
  },
  {
   "cell_type": "code",
   "execution_count": 236,
   "metadata": {},
   "outputs": [
    {
     "name": "stdout",
     "output_type": "stream",
     "text": [
      "['gokhan senay', '43', 'muhendis']\n",
      "\n",
      "Adı Soyadı\t:gokhan senay\n",
      "Yaşı\t\t:43\n",
      "Mesleği\t\t:muhendis\n",
      "******************************\n",
      "Adı Soyadı\t:gokhan senay\n",
      "Yaşı\t\t:43\n",
      "Mesleği\t\t:muhendis\n"
     ]
    }
   ],
   "source": [
    "#Yontem-2 : ınput ile aldırıp, split ile kullanalım.\n",
    "\n",
    "bilgiler=input(\"Lutfen bilgileri giriniz (Ad soyad,Yas,Meslek)\") \n",
    "\n",
    "bilgiler_liste=bilgiler.split(\",\")\n",
    "print(bilgiler_liste,end=\"\\n\"*2)\n",
    "\n",
    "print(f\"Adı Soyadı\\t:{bilgiler_liste[0]}\\nYaşı\\t\\t:{bilgiler_liste[1]}\\nMesleği\\t\\t:{bilgiler_liste[2]}\")\n",
    "print(\"*\"*30)\n",
    "print(\"Adı Soyadı\\t:{}\\nYaşı\\t\\t:{}\\nMesleği\\t\\t:{}\".format(bilgiler_liste[0],bilgiler_liste[1],bilgiler_liste[2]))\n",
    "#bilgiler_liste2=input(\"Lutfen bilgileri giriniz (Ad soyad,Yas,Meslek)\").split(\",\") bu sekilde de giriş yaptırabiliyoruz.\n",
    "#print(bilgiler_liste2)"
   ]
  },
  {
   "cell_type": "markdown",
   "metadata": {},
   "source": [
    "#### Soru-6) Haftalık Çalışma Saati\n",
    "40 saatin üstünde ucret 1.5 katı"
   ]
  },
  {
   "cell_type": "code",
   "execution_count": 7,
   "metadata": {},
   "outputs": [
    {
     "name": "stdout",
     "output_type": "stream",
     "text": [
      "5500.0\n"
     ]
    }
   ],
   "source": [
    "calissaat=int(input(\"Haftalık çalışma saatini giriniz\"))\n",
    "saatucret=int(input(\"Saatlik ucreti giriniz\"))\n",
    "\n",
    "if calissaat>40:\n",
    "    topucret=(40*saatucret)+(calissaat-40)*saatucret*1.5\n",
    "else:\n",
    "    topucret=calissaat*saatucret\n",
    "\n",
    "print(topucret)"
   ]
  },
  {
   "cell_type": "markdown",
   "metadata": {},
   "source": [
    "#### Soru-7) İki sayı eşitse veya farkı 5 in katıysa True dondurecek prg"
   ]
  },
  {
   "cell_type": "code",
   "execution_count": 41,
   "metadata": {},
   "outputs": [
    {
     "name": "stdout",
     "output_type": "stream",
     "text": [
      "True\n"
     ]
    }
   ],
   "source": [
    "# Yontem-1:\n",
    "\n",
    "sayilar=input(\"İki sayı giriniz (Sayı1,Sayı2)\").split(\",\")\n",
    "#print(sayilar)\n",
    "\n",
    "sayi1,sayi2=sayilar[0],sayilar[1]\n",
    "\n",
    "if int(sayi1) == int(sayi2) or (int(sayi1)-int(sayi2)) %5 == 0:\n",
    "   print(\"True\")\n",
    "\n",
    "else:\n",
    "    print(\"False\")"
   ]
  },
  {
   "cell_type": "code",
   "execution_count": 1,
   "metadata": {},
   "outputs": [
    {
     "name": "stdout",
     "output_type": "stream",
     "text": [
      "False\n"
     ]
    }
   ],
   "source": [
    "# Yontem-2 :\n",
    "\n",
    "sayilar=input(\"İki sayı giriniz (Sayı1,Sayı2)\").split(\",\")\n",
    "#print(sayilar)\n",
    "\n",
    "sayi1,sayi2=sayilar[0],sayilar[1]\n",
    "\n",
    "print(int(sayi1) == int(sayi2) or (int(sayi1)-int(sayi2)) %5 == 0)  # burada direk print ile True-False verdirebiliyoruz."
   ]
  },
  {
   "cell_type": "markdown",
   "metadata": {},
   "source": [
    "#### Soru-8) Girilen iki sayı tamsayı ise, iki sayıyı toplayan program"
   ]
  },
  {
   "cell_type": "code",
   "execution_count": 13,
   "metadata": {},
   "outputs": [
    {
     "name": "stdout",
     "output_type": "stream",
     "text": [
      "Nümerik bir deger girmediniz\n"
     ]
    }
   ],
   "source": [
    "x=input(\"İlk sayıyı giriniz:\")\n",
    "y=input(\"İkinci sayıyı giriniz:\")\n",
    "\n",
    "if x.isnumeric()==True and y.isnumeric()==True:\n",
    "    z=int(x)+int(y)\n",
    "    print(z)\n",
    "else:\n",
    "    z=\"Nümerik bir deger girmediniz\"\n",
    "    print(z)"
   ]
  },
  {
   "cell_type": "markdown",
   "metadata": {},
   "source": [
    "#### Soru-9) Bir ülkenin adını ve yüzey alanını argüman olarak alan ve ülkenin toplam dünya kara kütlesine oranını veren prg\n",
    "##### \"Rusya\", 17098242 = Rusyanın dünya kara kütlesi oranı 11,48 % dir.\n",
    "Toplam dünya kara kütlesi : 148,940,000 (km**2)"
   ]
  },
  {
   "cell_type": "code",
   "execution_count": 31,
   "metadata": {},
   "outputs": [
    {
     "name": "stdout",
     "output_type": "stream",
     "text": [
      "Rusya ülkesinin dünya kara kütlesine oranı 11.47995 %'dir.\n",
      "Rusya ülkesinin dünya kara kütlesine oranı 11.48 %'dir.\n",
      "Rusya ülkesinin dünya kara kütlesine oranı 11.48 %'dir.\n"
     ]
    }
   ],
   "source": [
    "giris_1=input(\"Ülke ismini ve kara kütlesi alanını (km**2) giriniz\")\n",
    "giris_2=giris_1.split(\",\")\n",
    "ulke=giris_2[0]\n",
    "ulke_alan=int(giris_2[1])\n",
    "oran=round((ulke_alan*100/148940000),5)\n",
    "oran2=ulke_alan*100/148940000\n",
    "\n",
    "print(\"{} ülkesinin dünya kara kütlesine oranı {} %'dir.\".format(ulke,oran)) # round ile yaptık\n",
    "\n",
    "print(\"{} ülkesinin dünya kara kütlesine oranı {:.4} %'dir.\".format(ulke,oran2))\n",
    "print(f\"{ulke} ülkesinin dünya kara kütlesine oranı {oran2:.4} %'dir.\")\n"
   ]
  },
  {
   "cell_type": "markdown",
   "metadata": {},
   "source": [
    "#### Soru-10) Vücut kitle endeksi veren prg (BMI=weight/height**2 (m2))"
   ]
  },
  {
   "cell_type": "code",
   "execution_count": 27,
   "metadata": {},
   "outputs": [
    {
     "name": "stdout",
     "output_type": "stream",
     "text": [
      " Normal, BMI : 24.52'dir\n"
     ]
    },
    {
     "data": {
      "text/plain": [
       "(175.55, 75.555, 24.51667343899683)"
      ]
     },
     "execution_count": 27,
     "metadata": {},
     "output_type": "execute_result"
    }
   ],
   "source": [
    "# Yontem_1 :\n",
    "\n",
    "# bmi<18,5 :underweight; 18,5-24,9:normal; 25-29,9:overweight; 30-34,9:obese; bmi>35 : extremely obese\n",
    "\n",
    "boy=float(input(\"Boyunuzu giriniz  (cm) :\"))\n",
    "kilo=float(input(\"Kilonuzu giriniz  (kg) :\"))\n",
    "\n",
    "bmi=kilo/(boy/100)**2\n",
    "\n",
    "if bmi >= 34.9:\n",
    "    print(f\" Extremely Obese, BMI : {bmi:.4}'dir\")\n",
    "elif 34.9 > bmi >= 30:\n",
    "    print(f\" Obese, BMI : {bmi:.4}'dir\")\n",
    "elif 30 > bmi >= 25:\n",
    "    print(f\" Overweight, BMI : {bmi:.4}'dir\")\n",
    "elif 25 > bmi >= 18.5:\n",
    "    print(f\" Normal, BMI : {bmi:.4}'dir\")\n",
    "else:\n",
    "    print(f\" Underweight, BMI : {bmi:.4}'dir\")\n",
    "\n",
    "boy,kilo,bmi"
   ]
  },
  {
   "cell_type": "code",
   "execution_count": 11,
   "metadata": {},
   "outputs": [
    {
     "name": "stdout",
     "output_type": "stream",
     "text": [
      "Normal, BMI : 19.17'dir\n"
     ]
    }
   ],
   "source": [
    "# Yontem_2 :\n",
    "\n",
    "boy=float(input(\"Boyunuzu giriniz  (cm) :\"))\n",
    "kilo=float(input(\"Kilonuzu giriniz  (kg) :\"))\n",
    "\n",
    "bmi=kilo/(boy/100)**2\n",
    "\n",
    "if bmi < 18.5:\n",
    "    sonuc=\"Underweight\"\n",
    "elif bmi < 25:\n",
    "      sonuc=\"Normal\"\n",
    "elif bmi < 30:\n",
    "      sonuc=\"Overweight\"\n",
    "elif bmi < 35:\n",
    "      sonuc=\"Obese\"\n",
    "else:\n",
    "        sonuc=\"Extremely obese\"\n",
    "   \n",
    "print(f\"{sonuc}, BMI : {bmi:.4}'dir\")"
   ]
  },
  {
   "cell_type": "markdown",
   "metadata": {},
   "source": [
    "#### Soru-11) Verilen string'deki telefon numarasını bulan prg"
   ]
  },
  {
   "cell_type": "code",
   "execution_count": 2,
   "metadata": {},
   "outputs": [
    {
     "data": {
      "text/plain": [
       "'1112223344'"
      ]
     },
     "execution_count": 2,
     "metadata": {},
     "output_type": "execute_result"
    }
   ],
   "source": [
    "#Yontem_1: \n",
    "# given_str = \" My phone number is (111) 222-33-44\"\n",
    "# output = 1112223344\n",
    "\n",
    "given_str = \"My phone number is (111) 222-33-44\"\n",
    "\n",
    "output=\"\"\n",
    "for i in given_str:\n",
    "    if i.isdigit():\n",
    "        output+=i\n",
    "output"
   ]
  },
  {
   "cell_type": "code",
   "execution_count": 3,
   "metadata": {},
   "outputs": [
    {
     "data": {
      "text/plain": [
       "'1112223344'"
      ]
     },
     "execution_count": 3,
     "metadata": {},
     "output_type": "execute_result"
    }
   ],
   "source": [
    "#Yontem_2: \n",
    "# given_str = \" My phone number is (111) 222-33-44\"\n",
    "# output = 1112223344\n",
    "\n",
    "given_str = \"My phone number is (111) 222-33-44\"\n",
    "\n",
    "output=\"\"\n",
    "for i in given_str:\n",
    "    if i in \"0123456789\":\n",
    "        output+=i\n",
    "output"
   ]
  },
  {
   "cell_type": "markdown",
   "metadata": {},
   "source": [
    "#### Soru-13) Kullanıcıdan alınan bir kelimeyi (Burak, bUrak, buRak,burAk,buraK) diye yazdıran prg."
   ]
  },
  {
   "cell_type": "code",
   "execution_count": 129,
   "metadata": {},
   "outputs": [
    {
     "data": {
      "text/plain": [
       "'buRak'"
      ]
     },
     "execution_count": 129,
     "metadata": {},
     "output_type": "execute_result"
    }
   ],
   "source": [
    "x=\"burak\"\n",
    "x[:2] + x[2].upper()+x[3:] # dolayısı ile x[:i]+x[i].upper()+x[i+1:]"
   ]
  },
  {
   "cell_type": "code",
   "execution_count": 134,
   "metadata": {},
   "outputs": [
    {
     "data": {
      "text/plain": [
       "''"
      ]
     },
     "execution_count": 134,
     "metadata": {},
     "output_type": "execute_result"
    }
   ],
   "source": [
    "x[:0] # bos"
   ]
  },
  {
   "cell_type": "code",
   "execution_count": 8,
   "metadata": {},
   "outputs": [
    {
     "name": "stdout",
     "output_type": "stream",
     "text": [
      "['Hakanemre bir kırpıktır', 'hAkanemre bir kırpıktır', 'haKanemre bir kırpıktır', 'hakAnemre bir kırpıktır', 'hakaNemre bir kırpıktır', 'hakanEmre bir kırpıktır', 'hakaneMre bir kırpıktır', 'hakanemRe bir kırpıktır', 'hakanemrE bir kırpıktır', 'hakanemre bir kırpıktır', 'hakanemre Bir kırpıktır', 'hakanemre bIr kırpıktır', 'hakanemre biR kırpıktır', 'hakanemre bir kırpıktır', 'hakanemre bir Kırpıktır', 'hakanemre bir kIrpıktır', 'hakanemre bir kıRpıktır', 'hakanemre bir kırPıktır', 'hakanemre bir kırpIktır', 'hakanemre bir kırpıKtır', 'hakanemre bir kırpıkTır', 'hakanemre bir kırpıktIr', 'hakanemre bir kırpıktıR']\n"
     ]
    }
   ],
   "source": [
    "#Yontem_1: Sedat hoca cozumu\n",
    "# Burak\n",
    "# 01234 len:5\n",
    "\n",
    "kelime=(input(\"Bir kelime giriniz\").lower())\n",
    "\n",
    "kelime2=[]\n",
    "for i in range(len(kelime)):\n",
    "    kelime2.append(kelime[:i] + kelime[i].upper() + kelime[i+1:])\n",
    "\n",
    "print(kelime2)\n"
   ]
  },
  {
   "cell_type": "code",
   "execution_count": 50,
   "metadata": {},
   "outputs": [
    {
     "name": "stdout",
     "output_type": "stream",
     "text": [
      "Buuraak\tbUUraak\tbUUraak\tbuuRaak\tbuurAAk\tbuurAAk\tbuuraaK\t"
     ]
    },
    {
     "data": {
      "text/plain": [
       "'buuraaK'"
      ]
     },
     "execution_count": 50,
     "metadata": {},
     "output_type": "execute_result"
    }
   ],
   "source": [
    "# benim diğer deneme\n",
    "giris=\"Buuraak\"\n",
    "str1=giris.lower()\n",
    "\n",
    "\n",
    "for i in range(len(str1)):\n",
    "    str2=str1.replace(str1[i],str1[i].upper())\n",
    "    print(str2,end=\"\\t\")\n",
    "str2\n"
   ]
  },
  {
   "cell_type": "code",
   "execution_count": 135,
   "metadata": {},
   "outputs": [
    {
     "name": "stdout",
     "output_type": "stream",
     "text": [
      "Gokhan\tgOkhan\tgoKhan\tgokHan\tgokhAn\tgokhaN\t"
     ]
    }
   ],
   "source": [
    "# Yontem_2: benim cozum\n",
    "isim=input(\"İsim giriniz:\").lower()\n",
    "isim_list1=[]\n",
    "\n",
    "for i in range(len(isim)):\n",
    "    isim_list1 +=isim[i]\n",
    "\n",
    "\n",
    "for i in range(len(isim)):\n",
    "    isim_list_print = isim_list1.copy()\n",
    "    str2=isim_list_print.pop(i)\n",
    "    str3=str2.upper()\n",
    "    isim_list_print.insert(i,str3)\n",
    "    str_print=\"\"\n",
    "    for i in range(len(isim)):\n",
    "        str_print +=isim_list_print[i]\n",
    "    print(str_print,end=\"\\t\")"
   ]
  },
  {
   "cell_type": "markdown",
   "metadata": {},
   "source": [
    "#### Soru-14) Verilen bir string deki herbir harfi bir index no ile dictionary seklinde veren prg diye yazdıran prg."
   ]
  },
  {
   "cell_type": "code",
   "execution_count": 168,
   "metadata": {},
   "outputs": [
    {
     "name": "stdout",
     "output_type": "stream",
     "text": [
      "{0: 'g', 1: 'o', 2: 'k', 3: 'h', 4: 'a', 5: 'n'}\n",
      "((0, 'g'), (1, 'o'), (2, 'k'), (3, 'h'), (4, 'a'), (5, 'n'))\n",
      "[(0, 'g'), (1, 'o'), (2, 'k'), (3, 'h'), (4, 'a'), (5, 'n')]\n"
     ]
    }
   ],
   "source": [
    "# Yontem:1\n",
    "\n",
    "# input :BESacademy\n",
    "# output {0:'B', 1:'E',.....}\n",
    "\n",
    "giris=input(\"Kelimeyi giriniz:\")\n",
    "list1=[]\n",
    "for i in range(len(giris)):\n",
    "    list1 += giris[i]\n",
    "\n",
    "list2=[*range(len(giris))]\n",
    "\n",
    "x=zip(list2,list1)\n",
    "y=zip(list2,list1)\n",
    "z=zip(list2,list1)\n",
    "\n",
    "print(dict(x)) # burada tuple(z) veya list(z) de diyebiliriz tuple yada list formatında elde etmek için\n",
    "print(tuple(y))\n",
    "print(list(z))"
   ]
  },
  {
   "cell_type": "code",
   "execution_count": null,
   "metadata": {},
   "outputs": [],
   "source": []
  },
  {
   "cell_type": "code",
   "execution_count": 174,
   "metadata": {},
   "outputs": [
    {
     "data": {
      "text/plain": [
       "{0: 'g', 1: 'o', 2: 'k', 3: 'h', 4: 'a', 5: 'n'}"
      ]
     },
     "execution_count": 174,
     "metadata": {},
     "output_type": "execute_result"
    }
   ],
   "source": [
    "giris=\"gokhan\"\n",
    "dict(enumerate(giris))"
   ]
  },
  {
   "cell_type": "code",
   "execution_count": 177,
   "metadata": {},
   "outputs": [
    {
     "data": {
      "text/plain": [
       "{100: 'g', 101: 'o', 102: 'k', 103: 'h', 104: 'a', 105: 'n'}"
      ]
     },
     "execution_count": 177,
     "metadata": {},
     "output_type": "execute_result"
    }
   ],
   "source": [
    "giris=\"gokhan\"\n",
    "dict(enumerate(giris,100))"
   ]
  },
  {
   "cell_type": "code",
   "execution_count": 171,
   "metadata": {},
   "outputs": [
    {
     "data": {
      "text/plain": [
       "{0: 'g', 1: 'o', 2: 'k', 3: 'h', 4: 'a', 5: 'n'}"
      ]
     },
     "execution_count": 171,
     "metadata": {},
     "output_type": "execute_result"
    }
   ],
   "source": [
    "# Yontem 3:\n",
    "\n",
    "giris=input(\"Kelimeyi giriniz:\")\n",
    "\n",
    "dict_1={}\n",
    "\n",
    "for i in range(len(giris)):\n",
    "    dict_1[i]=giris[i]\n",
    "\n",
    "dict_1"
   ]
  },
  {
   "cell_type": "code",
   "execution_count": 10,
   "metadata": {},
   "outputs": [
    {
     "name": "stdout",
     "output_type": "stream",
     "text": [
      "0 X 156 = 0\n",
      "1 X 156 = 156\n",
      "2 X 156 = 312\n",
      "3 X 156 = 468\n",
      "4 X 156 = 624\n",
      "5 X 156 = 780\n",
      "6 X 156 = 936\n",
      "7 X 156 = 1092\n",
      "8 X 156 = 1248\n",
      "9 X 156 = 1404\n",
      "10 X 156 = 1560\n"
     ]
    }
   ],
   "source": [
    "#### Soru-15) Carpım tablosu\n",
    "\n",
    "x=int(input(\"sayı giriniz:\"))\n",
    "\n",
    "for i in range(11):\n",
    "    print(f\"{i} X {x} = {i*x}\")"
   ]
  },
  {
   "cell_type": "markdown",
   "metadata": {},
   "source": [
    "#### Soru-16) Verilen bir rakamı (5 + 55 + 555) = 615  seklinde yazdıracak prg"
   ]
  },
  {
   "cell_type": "code",
   "execution_count": 8,
   "metadata": {},
   "outputs": [
    {
     "name": "stdout",
     "output_type": "stream",
     "text": [
      "5 + 55 + 555 = 615\n"
     ]
    }
   ],
   "source": [
    "sayi_1=input(\"Rakam giriniz:\")\n",
    "\n",
    "\n",
    "sayi_11=sayi_1*2\n",
    "sayi_111=sayi_1*3\n",
    "sonuc =int(sayi_1)+int(sayi_11)+int(sayi_111) \n",
    "print(f\"{sayi_1} + {sayi_11} + {sayi_111} = {sonuc}\")\n",
    "\n",
    "\n",
    "\n"
   ]
  },
  {
   "cell_type": "markdown",
   "metadata": {},
   "source": [
    "#### Soru-17) verilen bir string in ilk karakterini degistirmeden ilk karakter ile aynı olan karakteri \"?\" ile degistiren prg"
   ]
  },
  {
   "cell_type": "markdown",
   "metadata": {},
   "source": []
  },
  {
   "cell_type": "code",
   "execution_count": 16,
   "metadata": {},
   "outputs": [
    {
     "name": "stdout",
     "output_type": "stream",
     "text": [
      "resta?t\n"
     ]
    }
   ],
   "source": [
    "# Yontem_1:\n",
    "# input:restart\n",
    "# output : resta?t\n",
    "\n",
    "str1=\"restart\"\n",
    "\n",
    "for i in str1:\n",
    "    sonuc=str1.replace(str1[0],\"?\")[1:]\n",
    "\n",
    "print(str1[0]+sonuc)\n"
   ]
  },
  {
   "cell_type": "code",
   "execution_count": 17,
   "metadata": {},
   "outputs": [
    {
     "name": "stdout",
     "output_type": "stream",
     "text": [
      "resta?t\n"
     ]
    }
   ],
   "source": [
    "# Yontem_2:\n",
    "# input:restart\n",
    "# output : resta?t\n",
    "\n",
    "str1=\"restart\"\n",
    "\n",
    "text=str1[0]\n",
    "\n",
    "for i in range(1,len(str1)):\n",
    "    if str1[i] == str1[0]:\n",
    "        text += \"?\"\n",
    "    else:\n",
    "        text += str1[i]\n",
    "\n",
    "print(text)\n"
   ]
  },
  {
   "cell_type": "markdown",
   "metadata": {},
   "source": [
    "#### Soru-18) 1 den 50 ye kadar olan sayıları tek cıft diye ayıran prg"
   ]
  },
  {
   "cell_type": "code",
   "execution_count": 2,
   "metadata": {},
   "outputs": [
    {
     "name": "stdout",
     "output_type": "stream",
     "text": [
      "[1, 3, 5, 7, 9, 11, 13, 15, 17, 19, 21, 23, 25, 27, 29, 31, 33, 35, 37, 39, 41, 43, 45, 47, 49]\n",
      "[0, 2, 4, 6, 8, 10, 12, 14, 16, 18, 20, 22, 24, 26, 28, 30, 32, 34, 36, 38, 40, 42, 44, 46, 48, 50]\n"
     ]
    }
   ],
   "source": [
    "# Yontem1:\n",
    "tekler=[]\n",
    "ciftler=[]\n",
    "\n",
    "for i in range(51):\n",
    "    if i % 2:\n",
    "        tekler.append(i)\n",
    "    else:\n",
    "        ciftler.append(i)\n",
    "print(tekler)\n",
    "print(ciftler)\n"
   ]
  },
  {
   "cell_type": "code",
   "execution_count": 1,
   "metadata": {},
   "outputs": [
    {
     "name": "stdout",
     "output_type": "stream",
     "text": [
      " Tekler : [1, 3, 5, 7, 9, 11, 13, 15, 17, 19, 21, 23, 25, 27, 29, 31, 33, 35, 37, 39, 41, 43, 45, 47, 49]\n",
      " Ciftler : [0, 2, 4, 6, 8, 10, 12, 14, 16, 18, 20, 22, 24, 26, 28, 30, 32, 34, 36, 38, 40, 42, 44, 46, 48, 50]\n"
     ]
    }
   ],
   "source": [
    "# Yontem2:\n",
    "\n",
    "print(f\" Tekler : {[i for i in range(51) if i % 2]}\")\n",
    "print(f\" Ciftler : {[i for i in range(51) if i % 2 == 0]}\")"
   ]
  },
  {
   "cell_type": "markdown",
   "metadata": {},
   "source": [
    "#### Soru-19)  iki sayı giriyoruz. ilk sayı kucukse kucukten buyuge, ilk sayı buyukse buyukten kucuge sıralayan prg"
   ]
  },
  {
   "cell_type": "code",
   "execution_count": 20,
   "metadata": {},
   "outputs": [
    {
     "name": "stdout",
     "output_type": "stream",
     "text": [
      "[15, 16, 17, 18, 19, 20]\n"
     ]
    }
   ],
   "source": [
    "sayi_giris=(input(\"İki sayı giriniz :\")).split(\",\")\n",
    "sayi_1=int(sayi_giris[0])\n",
    "sayi_2=int(sayi_giris[1])\n",
    "\n",
    "if sayi_1 < sayi_2:\n",
    "    print([*range(sayi_1,sayi_2+1)])\n",
    "\n",
    "elif sayi_1 > sayi_2:\n",
    "    print([*range(sayi_1,sayi_2-1,-1)])\n",
    "else:\n",
    "    print(sayi_1)"
   ]
  },
  {
   "cell_type": "markdown",
   "metadata": {},
   "source": [
    "#### Soru-20)  birden fazla kelime içeren uzun bir cümleyi kelime kelime tersine ceviren prg"
   ]
  },
  {
   "cell_type": "code",
   "execution_count": 84,
   "metadata": {},
   "outputs": [
    {
     "name": "stdout",
     "output_type": "stream",
     "text": [
      "Benim adım Gökhan soyadım Şenay Elektrik Elektronik Mühendisiyim\n",
      "miyisidnehüM kinortkelE kirtkelE yaneŞ mıdayos nahköG mıda mineB\n",
      "mineB mıda nahköG mıdayos yaneŞ kirtkelE kinortkelE miyisidnehüM\n",
      "Mühendisiyim Elektronik Elektrik Şenay soyadım Gökhan adım Benim \n",
      "['Mühendisiyim', 'Elektronik', 'Elektrik', 'Şenay', 'soyadım', 'Gökhan', 'adım', 'Benim']\n",
      "Mühendisiyim Elektronik Elektrik Şenay soyadım Gökhan adım Benim\n"
     ]
    }
   ],
   "source": [
    "name=\"Benim adım Gökhan soyadım Şenay Elektrik Elektronik Mühendisiyim\"\n",
    "ters1=name[::-1]\n",
    "print(name)\n",
    "print(ters1)\n",
    "\n",
    "\n",
    "\n",
    "ters2=name.split(\" \")\n",
    "\n",
    "for i in range(len(ters2)):\n",
    "    ters3=ters2.pop(i)\n",
    "    ters2.insert(i,ters3[::-1])\n",
    "\n",
    "print(*ters2)\n",
    "\n",
    "\n",
    "ters5= name.split(\" \")\n",
    "n=len(ters5)\n",
    "for i in range(n):\n",
    "    print(ters5[(n-1)-i],end=\" \")\n",
    "\n",
    "print() # bi satır altlasın diye\n",
    "\n",
    "ters6= name.split(\" \")\n",
    "print(ters6[::-1])\n",
    "print(*ters6[::-1])"
   ]
  },
  {
   "cell_type": "markdown",
   "metadata": {},
   "source": [
    "#### Soru-21)   bir daire ve dairenin içinde ve dışında iki kara hayal edin\n",
    "#### bir tamsayı (dairenin yarıçapı alan ve iki karenin alanlarının farkını donduren bir prg yazınız.)"
   ]
  },
  {
   "cell_type": "markdown",
   "metadata": {},
   "source": [
    "![](circle.jpg)"
   ]
  },
  {
   "cell_type": "code",
   "execution_count": 2,
   "metadata": {},
   "outputs": [
    {
     "name": "stdout",
     "output_type": "stream",
     "text": [
      "49.99999999999999\n"
     ]
    }
   ],
   "source": [
    "from math import pi\n",
    "\n",
    "dr=int(input(\"Dairenin yarı çapını giriniz\"))\n",
    "kkenar=2*((dr**2/2)**0.5)\n",
    "bkenar=2*dr\n",
    "\n",
    "dalan=2*pi*dr**2\n",
    "kkarealan=kkenar**2\n",
    "bkarealan=bkenar**2\n",
    "\n",
    "fark=bkarealan-kkarealan\n",
    "\n",
    "print(fark)"
   ]
  },
  {
   "cell_type": "markdown",
   "metadata": {},
   "source": [
    "#### Soru-22)   1-50 arası sayıları yazdırıyoruz. üçün katları yerine \"Big\", yedinin katları yerine \"Bang\" hem üçün hem yedinin katları yerine \"BigBang\" yazdırın."
   ]
  },
  {
   "cell_type": "code",
   "execution_count": 49,
   "metadata": {},
   "outputs": [
    {
     "name": "stdout",
     "output_type": "stream",
     "text": [
      "[1, 2, 3, 4, 5, 6, 7, 8, 9, 10, 11, 12, 13, 14, 15, 16, 17, 18, 19, 20, 21, 22, 23, 24, 25, 26, 27, 28, 29, 30, 31, 32, 33, 34, 35, 36, 37, 38, 39, 40, 41, 42, 43, 44, 45, 46, 47, 48, 49, 50]\n",
      "\n",
      "[1, 2, 'Big', 4, 5, 'Big', 'Bang', 8, 'Big', 10, 11, 'Big', 13, 'Bang', 'Big', 16, 17, 'Big', 19, 20, 'BingBang', 22, 23, 'Big', 25, 26, 'Big', 'Bang', 29, 'Big', 31, 32, 'Big', 34, 'Bang', 'Big', 37, 38, 'Big', 40, 41, 'BingBang', 43, 44, 'Big', 46, 47, 'Big', 'Bang', 50]\n"
     ]
    }
   ],
   "source": [
    "#Yontem_1 : benimki ve yorucu\n",
    "list1=[*range(1,51)]\n",
    "list2=[]\n",
    "\n",
    "for i in range (50):\n",
    "    \n",
    "    if list1[i] % 3 and list1[i] % 7 : # 3 ve 7 ye bolunmuyorsa\n",
    "        list2.append(list1[i])\n",
    "    \n",
    "    if list1[i] % 3 == 0 and list1[i] % 7: # 3 e bolunup 7 ye bolunmuyorsa\n",
    "        list2.append(\"Big\")\n",
    "    \n",
    "    if list1[i] % 3 and list1[i] % 7 == 0: # 7 e bolunup 3 e bolunmuyorsa\n",
    "        list2.append(\"Bang\")\n",
    "\n",
    "    if list1[i] % 3 ==0 and list1[i] % 7 == 0: # 3 ve 7 e bolunuyorsa\n",
    "        list2.append(\"BingBang\")  \n",
    "    \n",
    "print(list1,end=\"\\n\"*2)\n",
    "print(list2)   \n",
    "    "
   ]
  },
  {
   "cell_type": "code",
   "execution_count": 56,
   "metadata": {},
   "outputs": [
    {
     "name": "stdout",
     "output_type": "stream",
     "text": [
      "1 2 Big 4 5 Big Bang 8 Big 10 11 Big 13 Bang Big 16 17 Big 19 20 Bigbang 22 23 Big 25 26 Big Bang 29 Big 31 32 Big 34 Bang Big 37 38 Big 40 41 Bigbang 43 44 Big 46 47 Big Bang 50 "
     ]
    }
   ],
   "source": [
    "# Yontem_2: hocanınki\n",
    "\n",
    "for i in range(1,51):\n",
    "    if i % 3 ==0 and i % 7 ==0 :\n",
    "        print(\"Bigbang\",end=\" \")\n",
    "    elif i % 3 ==0 :\n",
    "        print(\"Big\",end=\" \")\n",
    "    elif i % 7 ==0 :\n",
    "        print(\"Bang\",end=\" \")\n",
    "    else:\n",
    "        print(i,end=\" \")\n",
    "    \n",
    " "
   ]
  },
  {
   "cell_type": "markdown",
   "metadata": {},
   "source": [
    "#### Soru-23)   Buyuk unlu uyumu ()\n",
    "bir kelimenin birinci hecesinde kalın bir unlu (a,ı,o,u) bulunuyorsa diğerleri de kalın\n",
    "inceyse (e,i,ö,ü) diğerleri de ince.\n",
    "tek hecede aranmaz."
   ]
  },
  {
   "cell_type": "code",
   "execution_count": 77,
   "metadata": {},
   "outputs": [
    {
     "name": "stdout",
     "output_type": "stream",
     "text": [
      "cananu kelimesi buyuk unlu uyumuna uyar\n"
     ]
    }
   ],
   "source": [
    "kelime=input(\"Kelimeyi giriniz:\").lower()\n",
    "\n",
    "unlusay=0\n",
    "unlular=\"\"\n",
    "kalın=0\n",
    "ince=0\n",
    "\n",
    "for i in kelime:\n",
    "    if i in \"aıoueiöü\":\n",
    "        unlular +=i\n",
    "        unlusay +=1\n",
    "\n",
    "if unlusay > 1:\n",
    "    for i in unlular:\n",
    "        if i in \"aıou\":\n",
    "            kalın +=1\n",
    "        else:\n",
    "            ince +=1\n",
    "        \n",
    "    if kalın==unlusay or ince==unlusay:\n",
    "        print(f\"{kelime} kelimesi buyuk unlu uyumuna uyar\")\n",
    "    else:\n",
    "        print(f\"{kelime} kelimesi buyuk unlu uyumuna uymaz\")\n",
    "\n",
    "else:\n",
    "    print(f\"{kelime} kelimesinde buyuk unlu uyumu aranmaz\")"
   ]
  },
  {
   "cell_type": "code",
   "execution_count": null,
   "metadata": {},
   "outputs": [],
   "source": []
  }
 ],
 "metadata": {
  "kernelspec": {
   "display_name": "Python 3.10.8 64-bit",
   "language": "python",
   "name": "python3"
  },
  "language_info": {
   "codemirror_mode": {
    "name": "ipython",
    "version": 3
   },
   "file_extension": ".py",
   "mimetype": "text/x-python",
   "name": "python",
   "nbconvert_exporter": "python",
   "pygments_lexer": "ipython3",
   "version": "3.10.8"
  },
  "orig_nbformat": 4,
  "vscode": {
   "interpreter": {
    "hash": "afb734500600fd355917ca529030176ea0ca205570884b88f2f6f7d791fd3fbe"
   }
  }
 },
 "nbformat": 4,
 "nbformat_minor": 2
}
